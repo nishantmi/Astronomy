{
 "cells": [
  {
   "cell_type": "markdown",
   "metadata": {},
   "source": [
    "# Introduction to Time Domain Astronomy\n",
    "This is a branch of astronomy which deals with, well objects that change with time. Changes can be for various reasons, intrinsic to the object as well as due to other factors such as motion. A very good schematic that groups together several types of transients is given below. \n",
    "\n",
    "In today's tutorial, we will discuss the following transients:\n",
    "1. **Cepheid Variables**, in particular $\\delta$ Cepheids\n",
    "2. **Planetary Transits** (an Exoplanet detected by Kepler K2)\n",
    "3. A type of transient which is all together not very well understood, but is extremely relevant in the current research in Transient Astronomy, **Gamma Ray Bursts**\n",
    "\n",
    "All of the tasks, from data retrieval to processing will be done by ... you!!<br>\n",
    "The outline for how to proceed is given below. So you can think of this as an extended Assignment. "
   ]
  },
  {
   "cell_type": "markdown",
   "metadata": {},
   "source": [
    "![Transient Schematic](Updated-version-of-the-variability-tree-presented-in-Eyer-Mowlavi-2008-separated.png)"
   ]
  },
  {
   "cell_type": "markdown",
   "metadata": {},
   "source": [
    "(Adapted from : Laurent Eyer and Nami Mowlavi 2008 J. Phys.: Conf. Ser. 118 012010)"
   ]
  },
  {
   "cell_type": "code",
   "execution_count": 1,
   "metadata": {},
   "outputs": [],
   "source": [
    "# Standard imports\n",
    "import numpy as np\n",
    "import matplotlib.pyplot as plt\n",
    "\n",
    "# Lomb-Scargle Periodorgram:\n",
    "from astropy.timeseries import LombScargle, BoxLeastSquares\n",
    "\n",
    "# FITS load\n",
    "from astropy.io import fits"
   ]
  },
  {
   "cell_type": "markdown",
   "metadata": {},
   "source": [
    "## Cepheid Variables\n",
    "If you see the schematic, you will notice that Cepheid Variables come under the category of pulsating stars. These are stars, which due to some instability inherent in them, pulsate (i.e. expand and contract) with some period. As it turns out, the period of the Cepheid and the luminosity (i.e. the absolute magnitude) of the Cepheid are related. Theoretically, there are several models that are used to explain this, but we will focus today on how Cepheids were discovered: observations!!"
   ]
  },
  {
   "cell_type": "markdown",
   "metadata": {},
   "source": [
    "In 1908, [Henrietta Swan Leavitt](https://en.wikipedia.org/wiki/Henrietta_Swan_Leavitt) discovered the peculiar property of certain stars in the Small Magellanic Cloud, where their magnitude (brightness) was linearly related the logarithm of the period of their variability.\n",
    "\n",
    "The Small Magellanic Cloud is a dwarf galaxy satellite of the Milky Way, and distances to any star in it can be assumed to be almost constant. So the magnitudes translated directly into absolute magnitudes with some offset dependent on the distance to the SMC. \n",
    "\n",
    "Cepheids are today one of the most commonly used [Standard Candles](https://en.wikipedia.org/wiki/Cosmic_distance_ladder#Standard_candles), although several more classes of Cepheids have been observed."
   ]
  },
  {
   "cell_type": "markdown",
   "metadata": {},
   "source": [
    "In today's tutorial, we will take data from a survey called OGLE (Optical Gravitational Lensing Experiment), which has observed several thousands of variable stars. A screenshot of a data query page (go [here](http://ogledb.astrouw.edu.pl/~ogle/OCVS/ceph_query.php)) is found below:"
   ]
  },
  {
   "cell_type": "markdown",
   "metadata": {},
   "source": [
    "![Data Access Screenshot](./OGLE_screenshot.png)"
   ]
  },
  {
   "cell_type": "markdown",
   "metadata": {},
   "source": [
    "Here, the first column (_show_) allows you to show or hide certain columns in your query. Select the ones as seen in the screenshot. _Use_ column allows you to filter out the cepheids based on the _value/range_ selected in the next column. For now, we will use SMC Cepheids in the I filter (you can use LMC as well, it should give you similar results). After selecting press _Submit Query_. \n",
    "\n",
    "A few things to note: as with all oscillations, there are stars that pulsate in their fundamental frequency (F), as well as those that oscillate in higher overtones (1O, 2O), as well as mixed (F/1O, ...). Since we are, for now, concerned with the fundamental period, select only F in the Value/Range column. "
   ]
  },
  {
   "cell_type": "markdown",
   "metadata": {},
   "source": [
    "The HTML page you come to will now, show a list of Cepheids detected along with their properties. We are only concerned with the ID, the Mode (which should be F), I band magnitude and Period (as well as error in Period). "
   ]
  },
  {
   "cell_type": "markdown",
   "metadata": {},
   "source": [
    "First we will see how the light curve of a Cepheid looks and how to get the period from it. \n",
    "\n",
    "Select any of the Cepheids from the query page. You will see a 'phase-folded' light curve there (we will see what this is later). \n",
    "In the \"View photometry file\" section at the end, click on the I-band link. It will lead you to a plain text file, which you can save ('Ctrl+S') as a .dat file. The columns in the file are Time (in days), Magnitude (I-band) and Error in Magnitude (also I band). "
   ]
  },
  {
   "cell_type": "code",
   "execution_count": 2,
   "metadata": {},
   "outputs": [],
   "source": [
    "# Load the data file below\n",
    "data = np.loadtxt('OGLE_1.dat')\n",
    "time_data = data[:,0]\n",
    "mag_data = data[:,1]"
   ]
  },
  {
   "cell_type": "code",
   "execution_count": 3,
   "metadata": {},
   "outputs": [
    {
     "ename": "NameError",
     "evalue": "name 'phase' is not defined",
     "output_type": "error",
     "traceback": [
      "\u001b[0;31m---------------------------------------------------------------------------\u001b[0m",
      "\u001b[0;31mNameError\u001b[0m                                 Traceback (most recent call last)",
      "\u001b[0;32m<ipython-input-3-5742267af211>\u001b[0m in \u001b[0;36m<module>\u001b[0;34m\u001b[0m\n\u001b[1;32m      1\u001b[0m \u001b[0;31m# Make a scatter plot of Time vs Magnitude\u001b[0m\u001b[0;34m\u001b[0m\u001b[0;34m\u001b[0m\u001b[0;34m\u001b[0m\u001b[0m\n\u001b[0;32m----> 2\u001b[0;31m \u001b[0mplt\u001b[0m\u001b[0;34m.\u001b[0m\u001b[0mplot\u001b[0m\u001b[0;34m(\u001b[0m\u001b[0mphase\u001b[0m\u001b[0;34m,\u001b[0m\u001b[0mdata\u001b[0m\u001b[0;34m[\u001b[0m\u001b[0;34m:\u001b[0m\u001b[0;34m,\u001b[0m\u001b[0;36m1\u001b[0m\u001b[0;34m]\u001b[0m\u001b[0;34m)\u001b[0m\u001b[0;34m\u001b[0m\u001b[0;34m\u001b[0m\u001b[0m\n\u001b[0m\u001b[1;32m      3\u001b[0m \u001b[0mplt\u001b[0m\u001b[0;34m.\u001b[0m\u001b[0mshow\u001b[0m\u001b[0;34m(\u001b[0m\u001b[0;34m)\u001b[0m\u001b[0;34m\u001b[0m\u001b[0;34m\u001b[0m\u001b[0m\n",
      "\u001b[0;31mNameError\u001b[0m: name 'phase' is not defined"
     ]
    }
   ],
   "source": [
    "# Make a scatter plot of Time vs Magnitude\n",
    "plt.plot(phase,data[:,1])\n",
    "plt.show()"
   ]
  },
  {
   "cell_type": "markdown",
   "metadata": {},
   "source": [
    "Well, that was anticlimactic. What happened to the clean light curve we saw in the HTML page?\n",
    "\n",
    "The answer is that we cannot continuously observe the star for the full length of the period (unless you are looking at Kepler data). So we can only sample the star's light-curve at different oscillations. "
   ]
  },
  {
   "cell_type": "markdown",
   "metadata": {},
   "source": [
    "However, all is not lost. This is where phase folding comes into picture. We assume a period, and find the phase at which we observed each magnitude and scatter plot the phase vs magnitude instead.\n",
    "\n",
    "If you don't understand yet, have a look at the function below"
   ]
  },
  {
   "cell_type": "code",
   "execution_count": 4,
   "metadata": {},
   "outputs": [],
   "source": [
    "assumed_period = 3.1\n",
    "# Below, replace time_data with the name you have used.\n",
    "phase = np.remainder(time_data, assumed_period)/assumed_period \n",
    "# The division is just to normalise to the range of (0,1). Comment it out if you want a range of (0, period)"
   ]
  },
  {
   "cell_type": "markdown",
   "metadata": {},
   "source": [
    "After you have done this, try making a scatter plot of Phase vs. Magnitude. If you get the period just about right, then you will have a smoother light curve. If you want to cheat a bit, use the Period given in the data page on that Cepheid ;)"
   ]
  },
  {
   "cell_type": "markdown",
   "metadata": {},
   "source": [
    "Of course, we can't just go about changing Period and finding the best looking light-curve, atleast not for thousands of stars. So we need to find another way to deal with things. In an normal light curve (where the times at which data is collected are equally spaced), if we want to find the frequencies that exist in the time series, the best way to do so is by using the Fourier [Power Spectrum](https://en.wikipedia.org/wiki/Spectral_density). "
   ]
  },
  {
   "cell_type": "markdown",
   "metadata": {},
   "source": [
    "However, our data is going to have unequal spacing (we can't observe during the day). So unfortunately, we can't rely only on the FFT (Fast Fourier Transform). \n",
    "\n",
    "There is however, a way in which we can approximate the Power Spectrum, and this is called a Periodogram. One such Periodogram is the Lomb-Scarge Periodogram. If you are interested in more details, check out this paper: [Understanding the Lomb-Scargle Periodogram](https://arxiv.org/abs/1703.09824)\n",
    "\n",
    "If however, you haven't understood much and skipped directly here, this is all you need to know to use these tools. It gives you the 'power' of each frequency in a given time-series. The frequency with the most power then is our best bet for being the fundamental frequency of the actual time-series. "
   ]
  },
  {
   "cell_type": "code",
   "execution_count": 5,
   "metadata": {},
   "outputs": [],
   "source": [
    "frequency, power = LombScargle(time_data, mag_data).autopower(minimum_frequency = 0.5,maximum_frequency = 1)\n",
    "# This is it, for the most part. You can also add the error in mag_data as an additional argument."
   ]
  },
  {
   "cell_type": "markdown",
   "metadata": {},
   "source": [
    "The autopower function selects out a frequency range which it deems ideal for containing the possible frequency. However, you can input your own frequency range using the arguments `minimum_frequency` and `maximum_frequency`. \n",
    "\n",
    "To see your power spectrum, make a plot between frequency and power. "
   ]
  },
  {
   "cell_type": "code",
   "execution_count": 6,
   "metadata": {},
   "outputs": [
    {
     "data": {
      "text/plain": [
       "Text(0, 0.5, 'Power')"
      ]
     },
     "execution_count": 6,
     "metadata": {},
     "output_type": "execute_result"
    },
    {
     "data": {
      "image/png": "[encoded data removed]",
      "text/plain": [
       "<Figure size 432x288 with 1 Axes>"
      ]
     },
     "metadata": {
      "needs_background": "light"
     },
     "output_type": "display_data"
    }
   ],
   "source": [
    "plt.figure()\n",
    "plt.plot(frequency, power)\n",
    "plt.xlabel('Frequency [1\\day]')\n",
    "plt.ylabel('Power')\n"
   ]
  },
  {
   "cell_type": "markdown",
   "metadata": {},
   "source": [
    "You should see a high peak in the power spectrum. Your next task is to take find the frequency corresponding to the peak (`np.argmax` might be useful here). Then find the period from the frequency, and use it to plot a phase-folded light curve as earlier. "
   ]
  },
  {
   "cell_type": "code",
   "execution_count": 55,
   "metadata": {},
   "outputs": [
    {
     "data": {
      "text/plain": [
       "0.7213201365800791"
      ]
     },
     "execution_count": 55,
     "metadata": {},
     "output_type": "execute_result"
    }
   ],
   "source": [
    "power.max()"
   ]
  },
  {
   "cell_type": "code",
   "execution_count": 58,
   "metadata": {},
   "outputs": [
    {
     "data": {
      "text/plain": [
       "<matplotlib.collections.PathCollection at 0x120812e90>"
      ]
     },
     "execution_count": 58,
     "metadata": {},
     "output_type": "execute_result"
    },
    {
     "data": {
      "image/png": "[encoded data removed]",
      "text/plain": [
       "<Figure size 432x288 with 1 Axes>"
      ]
     },
     "metadata": {
      "needs_background": "light"
     },
     "output_type": "display_data"
    }
   ],
   "source": [
    "# Find the Period from the Power Spectrum\n",
    "\n",
    "period = frequency[np.argmax(power)]\n",
    "period = 1.1282584\n",
    "# Phase folded light curve\n",
    "phase1 = np.remainder(time_data, period)/period \n",
    "plt.scatter(phase1,mag_data,s=0.5,c='g')"
   ]
  },
  {
   "cell_type": "markdown",
   "metadata": {},
   "source": [
    "This concludes, for now, our investigation on how to find the Period of a Cepheid (or in-fact any pulsating variable), using the Lomb-Scargle Periodogram. And finally, just to see, let us plot the Period-Luminosity Relation for our selected bunch of Cepheids. \n",
    "\n",
    "In the HTML page with the list of Cepheids, there is an option to _Download Data_. Select \"Star Table\" (gives only the columns we asked for), and save the data file. "
   ]
  },
  {
   "cell_type": "code",
   "execution_count": 65,
   "metadata": {},
   "outputs": [
    {
     "ename": "ValueError",
     "evalue": "Wrong number of columns at line 8",
     "output_type": "error",
     "traceback": [
      "\u001b[0;31m---------------------------------------------------------------------------\u001b[0m",
      "\u001b[0;31mValueError\u001b[0m                                Traceback (most recent call last)",
      "\u001b[0;32m<ipython-input-65-88aa75a1e9d4>\u001b[0m in \u001b[0;36m<module>\u001b[0;34m\u001b[0m\n\u001b[1;32m      1\u001b[0m \u001b[0;31m# Load Star Table Data file\u001b[0m\u001b[0;34m\u001b[0m\u001b[0;34m\u001b[0m\u001b[0;34m\u001b[0m\u001b[0m\n\u001b[0;32m----> 2\u001b[0;31m \u001b[0marray_from_file\u001b[0m \u001b[0;34m=\u001b[0m \u001b[0mnp\u001b[0m\u001b[0;34m.\u001b[0m\u001b[0mloadtxt\u001b[0m\u001b[0;34m(\u001b[0m\u001b[0;34m\"query_1588357458.83584p.txt\"\u001b[0m\u001b[0;34m,\u001b[0m \u001b[0mdtype\u001b[0m\u001b[0;34m=\u001b[0m\u001b[0mstr\u001b[0m\u001b[0;34m)\u001b[0m\u001b[0;34m\u001b[0m\u001b[0;34m\u001b[0m\u001b[0m\n\u001b[0m",
      "\u001b[0;32m~/opt/anaconda3/lib/python3.7/site-packages/numpy/lib/npyio.py\u001b[0m in \u001b[0;36mloadtxt\u001b[0;34m(fname, dtype, comments, delimiter, converters, skiprows, usecols, unpack, ndmin, encoding, max_rows)\u001b[0m\n\u001b[1;32m   1157\u001b[0m         \u001b[0;31m# converting the data\u001b[0m\u001b[0;34m\u001b[0m\u001b[0;34m\u001b[0m\u001b[0;34m\u001b[0m\u001b[0m\n\u001b[1;32m   1158\u001b[0m         \u001b[0mX\u001b[0m \u001b[0;34m=\u001b[0m \u001b[0;32mNone\u001b[0m\u001b[0;34m\u001b[0m\u001b[0;34m\u001b[0m\u001b[0m\n\u001b[0;32m-> 1159\u001b[0;31m         \u001b[0;32mfor\u001b[0m \u001b[0mx\u001b[0m \u001b[0;32min\u001b[0m \u001b[0mread_data\u001b[0m\u001b[0;34m(\u001b[0m\u001b[0m_loadtxt_chunksize\u001b[0m\u001b[0;34m)\u001b[0m\u001b[0;34m:\u001b[0m\u001b[0;34m\u001b[0m\u001b[0;34m\u001b[0m\u001b[0m\n\u001b[0m\u001b[1;32m   1160\u001b[0m             \u001b[0;32mif\u001b[0m \u001b[0mX\u001b[0m \u001b[0;32mis\u001b[0m \u001b[0;32mNone\u001b[0m\u001b[0;34m:\u001b[0m\u001b[0;34m\u001b[0m\u001b[0;34m\u001b[0m\u001b[0m\n\u001b[1;32m   1161\u001b[0m                 \u001b[0mX\u001b[0m \u001b[0;34m=\u001b[0m \u001b[0mnp\u001b[0m\u001b[0;34m.\u001b[0m\u001b[0marray\u001b[0m\u001b[0;34m(\u001b[0m\u001b[0mx\u001b[0m\u001b[0;34m,\u001b[0m \u001b[0mdtype\u001b[0m\u001b[0;34m)\u001b[0m\u001b[0;34m\u001b[0m\u001b[0;34m\u001b[0m\u001b[0m\n",
      "\u001b[0;32m~/opt/anaconda3/lib/python3.7/site-packages/numpy/lib/npyio.py\u001b[0m in \u001b[0;36mread_data\u001b[0;34m(chunk_size)\u001b[0m\n\u001b[1;32m   1082\u001b[0m                 \u001b[0mline_num\u001b[0m \u001b[0;34m=\u001b[0m \u001b[0mi\u001b[0m \u001b[0;34m+\u001b[0m \u001b[0mskiprows\u001b[0m \u001b[0;34m+\u001b[0m \u001b[0;36m1\u001b[0m\u001b[0;34m\u001b[0m\u001b[0;34m\u001b[0m\u001b[0m\n\u001b[1;32m   1083\u001b[0m                 raise ValueError(\"Wrong number of columns at line %d\"\n\u001b[0;32m-> 1084\u001b[0;31m                                  % line_num)\n\u001b[0m\u001b[1;32m   1085\u001b[0m \u001b[0;34m\u001b[0m\u001b[0m\n\u001b[1;32m   1086\u001b[0m             \u001b[0;31m# Convert each value according to its column and store\u001b[0m\u001b[0;34m\u001b[0m\u001b[0;34m\u001b[0m\u001b[0;34m\u001b[0m\u001b[0m\n",
      "\u001b[0;31mValueError\u001b[0m: Wrong number of columns at line 8"
     ]
    }
   ],
   "source": [
    "# Load Star Table Data file\n",
    "array_from_file = np.loadtxt(\"query_1588357458.83584p.txt\", dtype=str)"
   ]
  },
  {
   "cell_type": "code",
   "execution_count": null,
   "metadata": {},
   "outputs": [],
   "source": [
    "# Plot I band magnitude (Y-axis) vs logarithm of the Period (X-axis) and verify a linear relation"
   ]
  },
  {
   "cell_type": "markdown",
   "metadata": {},
   "source": [
    "## Exoplanets\n",
    "One of the main methods of detecting Exoplanets is to observe the host star's brightness and notice dips when the planet passes in front of the star. These are called Transits and the highly sensitive Kepler mission discovered thousands of planets using this method."
   ]
  },
  {
   "cell_type": "markdown",
   "metadata": {},
   "source": [
    "To download data, go to this [site](https://archive.stsci.edu/pub/kepler/lightcurves/0106/010666592/), and download the file `kplr010666592-2009131110544_slc.fits` (this should be the second file).\n",
    "\n",
    "General instructions for downloading any light curve given a Kepler ID can be found [here](https://archive.stsci.edu/kepler/download_options.html)"
   ]
  },
  {
   "cell_type": "markdown",
   "metadata": {},
   "source": [
    "The light curve is a FITS data file. We have seen these before (in the tutorial on Astropy Quantities). To get the data directly without worrying about the HDUs, use the `fits.getdata` function. "
   ]
  },
  {
   "cell_type": "markdown",
   "metadata": {},
   "source": [
    "We will be using the 'Time' and 'SAP_FLUX' columns of the fits file. (SAP is Simple Aperture Photometry). Make a scatter-plot and see how the transits look. "
   ]
  },
  {
   "cell_type": "code",
   "execution_count": 98,
   "metadata": {},
   "outputs": [
    {
     "data": {
      "text/plain": [
       "XTENSION= 'BINTABLE'           / marks the beginning of a new HDU               \n",
       "BITPIX  =                    8 / array data type                                \n",
       "NAXIS   =                    2 / number of array dimensions                     \n",
       "NAXIS1  =                  100 / length of first array dimension                \n",
       "NAXIS2  =                14280 / length of second array dimension               \n",
       "PCOUNT  =                    0 / group parameter count (not used)               \n",
       "GCOUNT  =                    1 / group count (not used)                         \n",
       "TFIELDS =                   20 / number of table fields                         \n",
       "TTYPE1  = 'TIME    '           / column title: data time stamps                 \n",
       "TFORM1  = 'D       '           / column format: 64-bit floating point           \n",
       "TUNIT1  = 'BJD - 2454833'      / column units: barycenter corrected JD          \n",
       "TDISP1  = 'D14.7   '           / column display format                          \n",
       "TTYPE2  = 'TIMECORR'           / column title: barycenter - timeslice correction\n",
       "TFORM2  = 'E       '           / column format: 32-bit floating point           \n",
       "TUNIT2  = 'd       '           / column units: day                              \n",
       "TDISP2  = 'E13.6   '           / column display format                          \n",
       "TTYPE3  = 'CADENCENO'          / column title: unique cadence number            \n",
       "TFORM3  = 'J       '           / column format: signed 32-bit integer           \n",
       "TDISP3  = 'I10     '           / column display format                          \n",
       "TTYPE4  = 'SAP_FLUX'           / column title: aperture photometry flux         \n",
       "TFORM4  = 'E       '           / column format: 32-bit floating point           \n",
       "TUNIT4  = 'e-/s    '           / column units: electrons per second             \n",
       "TDISP4  = 'E14.7   '           / column display format                          \n",
       "TTYPE5  = 'SAP_FLUX_ERR'       / column title: aperture phot. flux error        \n",
       "TFORM5  = 'E       '           / column format: 32-bit floating point           \n",
       "TUNIT5  = 'e-/s    '           / column units: electrons per second (1-sigma)   \n",
       "TDISP5  = 'E14.7   '           / column display format                          \n",
       "TTYPE6  = 'SAP_BKG '           / column title: aperture phot. background flux   \n",
       "TFORM6  = 'E       '           / column format: 32-bit floating point           \n",
       "TUNIT6  = 'e-/s    '           / column units: electrons per second             \n",
       "TDISP6  = 'E14.7   '           / column display format                          \n",
       "TTYPE7  = 'SAP_BKG_ERR'        / column title: ap. phot. background flux error  \n",
       "TFORM7  = 'E       '           / column format: 32-bit floating point           \n",
       "TUNIT7  = 'e-/s    '           / column units: electrons per second (1-sigma)   \n",
       "TDISP7  = 'E14.7   '           / column display format                          \n",
       "TTYPE8  = 'PDCSAP_FLUX'        / column title: aperture phot. PDC flux          \n",
       "TFORM8  = 'E       '           / column format: 32-bit floating point           \n",
       "TUNIT8  = 'e-/s    '           / column units: electrons per second             \n",
       "TDISP8  = 'E14.7   '           / column display format                          \n",
       "TTYPE9  = 'PDCSAP_FLUX_ERR'    / column title: ap. phot. PDC flux error         \n",
       "TFORM9  = 'E       '           / column format: 32-bit floating point           \n",
       "TUNIT9  = 'e-/s    '           / column units: electrons per second (1-sigma)   \n",
       "TDISP9  = 'E14.7   '           / column display format                          \n",
       "TTYPE10 = 'SAP_QUALITY'        / column title: aperture photometry quality flag \n",
       "TFORM10 = 'J       '           / column format: signed 32-bit integer           \n",
       "TDISP10 = 'B16.16  '           / column display format                          \n",
       "TTYPE11 = 'PSF_CENTR1'         / column title: PSF-fitted column centroid       \n",
       "TFORM11 = 'D       '           / column format: 64-bit floating point           \n",
       "TUNIT11 = 'pixel   '           / column units: pixel                            \n",
       "TDISP11 = 'F10.5   '           / column display format                          \n",
       "TTYPE12 = 'PSF_CENTR1_ERR'     / column title: PSF-fitted column error          \n",
       "TFORM12 = 'E       '           / column format: 32-bit floating point           \n",
       "TUNIT12 = 'pixel   '           / column units: pixel (1-sigma)                  \n",
       "TDISP12 = 'E14.7   '           / column display format                          \n",
       "TTYPE13 = 'PSF_CENTR2'         / column title: PSF-fitted row centroid          \n",
       "TFORM13 = 'D       '           / column format: 64-bit floating point           \n",
       "TUNIT13 = 'pixel   '           / column units: pixel                            \n",
       "TDISP13 = 'F10.5   '           / column display format                          \n",
       "TTYPE14 = 'PSF_CENTR2_ERR'     / column title: PSF-fitted row error             \n",
       "TFORM14 = 'E       '           / column format: 32-bit floating point           \n",
       "TUNIT14 = 'pixel   '           / column units: pixel (1-sigma)                  \n",
       "TDISP14 = 'E14.7   '           / column display format                          \n",
       "TTYPE15 = 'MOM_CENTR1'         / column title: moment-derived column centroid   \n",
       "TFORM15 = 'D       '           / column format: 64-bit floating point           \n",
       "TUNIT15 = 'pixel   '           / column units: pixel                            \n",
       "TDISP15 = 'F10.5   '           / column display format                          \n",
       "TTYPE16 = 'MOM_CENTR1_ERR'     / column title: moment-derived column error      \n",
       "TFORM16 = 'E       '           / column format: 32-bit floating point           \n",
       "TUNIT16 = 'pixel   '           / column units: pixel (1-sigma)                  \n",
       "TDISP16 = 'E14.7   '           / column display format                          \n",
       "TTYPE17 = 'MOM_CENTR2'         / column title: moment-derived row centroid      \n",
       "TFORM17 = 'D       '           / column format: 64-bit floating point           \n",
       "TUNIT17 = 'pixel   '           / column units: pixel                            \n",
       "TDISP17 = 'F10.5   '           / column display format                          \n",
       "TTYPE18 = 'MOM_CENTR2_ERR'     / column title: moment-derived row error         \n",
       "TFORM18 = 'E       '           / column format: 32-bit floating point           \n",
       "TUNIT18 = 'pixel   '           / column units: pixel (1-sigma)                  \n",
       "TDISP18 = 'E14.7   '           / column display format                          \n",
       "TTYPE19 = 'POS_CORR1'          / column title: column position correction       \n",
       "TFORM19 = 'E       '           / column format: 32-bit floating point           \n",
       "TUNIT19 = 'pixels  '           / column units: pixel                            \n",
       "TDISP19 = 'E14.7   '           / column display format                          \n",
       "TTYPE20 = 'POS_CORR2'          / column title: row position correction          \n",
       "TFORM20 = 'E       '           / column format: 32-bit floating point           \n",
       "TUNIT20 = 'pixels  '           / column units: pixel                            \n",
       "TDISP20 = 'E14.7   '           / column display format                          \n",
       "INHERIT =                    T / inherit the primary header                     \n",
       "EXTNAME = 'LIGHTCURVE'         / name of extension                              \n",
       "EXTVER  =                    1 / extension version number (not format version)  \n",
       "TELESCOP= 'Kepler  '           / telescope                                      \n",
       "INSTRUME= 'Kepler Photometer'  / detector type                                  \n",
       "OBJECT  = 'KIC 10666592'       / string version of target id                    \n",
       "KEPLERID=             10666592 / unique Kepler target identifier                \n",
       "RADESYS = 'ICRS    '           / reference frame of celestial coordinates       \n",
       "RA_OBJ  =           292.247280 / [deg] right ascension                          \n",
       "DEC_OBJ =            47.969519 / [deg] declination                              \n",
       "EQUINOX =               2000.0 / equinox of celestial coordinate system         \n",
       "EXPOSURE=           8.95478037 / [d] time on source                             \n",
       "TIMEREF = 'SOLARSYSTEM'        / barycentric correction applied to times        \n",
       "TASSIGN = 'SPACECRAFT'         / where time is assigned                         \n",
       "TIMESYS = 'TDB     '           / time system is barycentric JD                  \n",
       "BJDREFI =              2454833 / integer part of BJD reference date             \n",
       "BJDREFF =           0.00000000 / fraction of the day in BJD reference date      \n",
       "TIMEUNIT= 'd       '           / time unit for TIME, TSTART and TSTOP           \n",
       "TELAPSE =           9.72674420 / [d] TSTOP - TSTART                             \n",
       "LIVETIME=           8.95478037 / [d] TELAPSE multiplied by DEADC                \n",
       "TSTART  =         120.52859853 / observation start time in BJD-BJDREF           \n",
       "TSTOP   =         130.25534273 / observation stop time in BJD-BJDREF            \n",
       "LC_START=       54953.02827604 / mid point of first cadence in MJD              \n",
       "LC_END  =       54962.75398744 / mid point of last cadence in MJD               \n",
       "DEADC   =           0.92063492 / deadtime correction                            \n",
       "TIMEPIXR=                  0.5 / bin time beginning=0 middle=0.5 end=1          \n",
       "TIERRELA=             5.78E-07 / [d] relative time error                        \n",
       "TIERABSO=                      / [d] absolute time error                        \n",
       "INT_TIME=       6.019802903270 / [s] photon accumulation time per frame         \n",
       "READTIME=       0.518948526144 / [s] readout time per frame                     \n",
       "FRAMETIM=       6.538751429414 / [s] frame time (INT_TIME + READTIME)           \n",
       "NUM_FRM =                    9 / number of frames per time stamp                \n",
       "TIMEDEL =     6.81119940564E-4 / [d] time resolution of data                    \n",
       "DATE-OBS= '2009-05-02T00:40:13.625Z' / TSTART as UTC calendar date              \n",
       "DATE-END= '2009-05-11T18:06:13.939Z' / TSTOP as UTC calendar date               \n",
       "BACKAPP =                    T / background is subtracted                       \n",
       "DEADAPP =                    T / deadtime applied                               \n",
       "VIGNAPP =                    T / vignetting or collimator correction applied    \n",
       "GAIN    =               108.41 / [electrons/count] channel gain                 \n",
       "READNOIS=           120.627807 / [electrons] read noise                         \n",
       "NREADOUT=                    9 / number of read per cadence                     \n",
       "TIMSLICE=                    2 / time-slice readout sequence section            \n",
       "MEANBLCK=                  719 / [count] FSW mean black level                   \n",
       "LCFXDOFF=               419400 / long cadence fixed offset                      \n",
       "SCFXDOFF=               219400 / short cadence fixed offset                     \n",
       "CDPP3_0 =                      / [ppm] RMS CDPP on 3.0-hr time scales           \n",
       "CDPP6_0 =                      / [ppm] RMS CDPP on 6.0-hr time scales           \n",
       "CDPP12_0=                      / [ppm] RMS CDPP on 12.0-hr time scales          \n",
       "CROWDSAP=               0.9975 / Ratio of target flux to total flux in op. ap.  \n",
       "FLFRCSAP=               0.9901 / Frac. of target flux w/in the op. aperture     \n",
       "NSPSDDET=                    0 / Number of SPSDs detected                       \n",
       "NSPSDCOR=                    0 / Number of SPSDs corrected                      \n",
       "PDCVAR  =     1.11696457862854 / Target variability                             \n",
       "PDCMETHD= 'quickMap'           / PDC algorithm used for target                  \n",
       "NUMBAND =                    1 / Number of scale bands                          \n",
       "FITTYPE1= 'prior   '           / Fit type used for band 1                       \n",
       "PR_GOOD1=    0.999549150466919 / Prior goodness for band 1                      \n",
       "PR_WGHT1=  0.19837789237499237 / Prior weight for band 1                        \n",
       "PDC_TOT =     0.98423171043396 / PDC total goodness metric for target           \n",
       "PDC_TOTP=   44.799137115478516 / PDC_TOT percentile compared to mod/out         \n",
       "PDC_COR =   0.9945597648620605 / PDC correlation goodness metric for target     \n",
       "PDC_CORP=   50.600677490234375 / PDC_COR percentile compared to mod/out         \n",
       "PDC_VAR =   0.9999968409538269 / PDC variability goodness metric for target     \n",
       "PDC_VARP=     82.3131332397461 / PDC_VAR percentile compared to mod/out         \n",
       "PDC_NOI =   0.9586554169654846 / PDC noise goodness metric for target           \n",
       "PDC_NOIP=   28.758403778076172 / PDC_NOI percentile compared to mod/out         \n",
       "PDC_EPT =                      / PDC earth point goodness metric for target     \n",
       "PDC_EPTP=                      / PDC_EPT percentile compared to mod/out         \n",
       "CHECKSUM= '4EbS4DZR4DaR4DYR'   / HDU checksum updated 2016-05-13T17:45:41Z      "
      ]
     },
     "execution_count": 98,
     "metadata": {},
     "output_type": "execute_result"
    }
   ],
   "source": [
    "exo_data[1].header"
   ]
  },
  {
   "cell_type": "code",
   "execution_count": 109,
   "metadata": {
    "scrolled": true
   },
   "outputs": [
    {
     "name": "stdout",
     "output_type": "stream",
     "text": [
      "[1027045.06 1027184.44 1027076.25 ... 1025451.56 1025468.5  1025930.9 ]\n"
     ]
    }
   ],
   "source": [
    "# Scatter plot of SAP_Flux vs Time\n",
    "exo_data = fits.open('kplr_slc.fits')\n",
    "lightcurve = exo_data[1].data\n",
    "\n",
    "\n",
    "time = lightcurve['Time']\n",
    "SAP_Flux = lightcurve['SAP_FLUX']\n",
    "print(SAP_Flux)"
   ]
  },
  {
   "cell_type": "code",
   "execution_count": 121,
   "metadata": {},
   "outputs": [
    {
     "name": "stdout",
     "output_type": "stream",
     "text": [
      "(array([    0,     1,     2, ..., 14277, 14278, 14279]),)\n"
     ]
    },
    {
     "data": {
      "text/plain": [
       "<matplotlib.collections.PathCollection at 0x121067fd0>"
      ]
     },
     "execution_count": 121,
     "metadata": {},
     "output_type": "execute_result"
    },
    {
     "data": {
      "image/png": "[encoded data removed]",
      "text/plain": [
       "<Figure size 432x288 with 1 Axes>"
      ]
     },
     "metadata": {
      "needs_background": "light"
     },
     "output_type": "display_data"
    }
   ],
   "source": [
    "indices = np.where(~np.isnan(SAP_Flux))\n",
    "print(indices)\n",
    "ti = time[indices]\n",
    "SA = SAP_Flux[indices]\n",
    "\n",
    "plt.scatter(ti,SA,s=0.3)"
   ]
  },
  {
   "cell_type": "markdown",
   "metadata": {},
   "source": [
    "To find the period quantitatively, using a Lomb-Scargle Periodogram seems slightly inappropriate; this light curve doesn't resemble a sinusoid in any way. Instead we will use another Periodogram in `astropy.timeseries` called `BoxLeastSquares`. The usage is similar to `LombScargle`; so it is left to you to find the period of the transits, and hence the orbital period of the exoplanet. \n",
    "\n",
    "To know more about `BoxLeastSqaures`, consult the AstroPy Documentation for the mathematics behind it [here](https://docs.astropy.org/en/stable/timeseries/bls.html#mathematical-background)"
   ]
  },
  {
   "cell_type": "code",
   "execution_count": 117,
   "metadata": {},
   "outputs": [],
   "source": [
    "# Implement BoxLeastSquares\n",
    "\n",
    "periodogram = BoxLeastSquares(ti, SA).autopower(0.2)"
   ]
  },
  {
   "cell_type": "code",
   "execution_count": 118,
   "metadata": {},
   "outputs": [
    {
     "name": "stdout",
     "output_type": "stream",
     "text": [
      "[4.16432402e+07 1.18350976e+08 1.16237029e+08 ... 1.20126776e+09\n",
      " 1.20103205e+09 1.19505851e+09]\n"
     ]
    },
    {
     "data": {
      "image/png": "[encoded data removed]",
      "text/plain": [
       "<Figure size 432x288 with 1 Axes>"
      ]
     },
     "metadata": {
      "needs_background": "light"
     },
     "output_type": "display_data"
    }
   ],
   "source": [
    "# Plot the power Spectrum\n",
    "\n",
    "print(periodogram.power)\n",
    "plt.plot(periodogram.period, periodogram.power)  \n",
    "plt.show()"
   ]
  },
  {
   "cell_type": "code",
   "execution_count": 122,
   "metadata": {},
   "outputs": [
    {
     "name": "stdout",
     "output_type": "stream",
     "text": [
      "2.2055172439293367\n"
     ]
    },
    {
     "data": {
      "text/plain": [
       "<matplotlib.collections.PathCollection at 0x120f03e50>"
      ]
     },
     "execution_count": 122,
     "metadata": {},
     "output_type": "execute_result"
    },
    {
     "data": {
      "image/png": "[encoded data removed]",
      "text/plain": [
       "<Figure size 432x288 with 1 Axes>"
      ]
     },
     "metadata": {
      "needs_background": "light"
     },
     "output_type": "display_data"
    }
   ],
   "source": [
    "# Plot the Phase-Folded Light curve for the Exoplant Transit using the Period found.\n",
    "\n",
    "period = periodogram.period[np.argmax(periodogram.power)]\n",
    "print(period)\n",
    "#period = 1.1282584\n",
    "# Phase folded light curve\n",
    "phase1 = np.remainder(ti, period)/period \n",
    "plt.scatter(ti,SA,s=0.5,c='g')"
   ]
  },
  {
   "cell_type": "markdown",
   "metadata": {},
   "source": [
    "Hopefully, this should have given you some insight into how the periods of all those Cepheids and Exoplanets are found. Now, we will look into something a bit different, Gamma Ray Bursts"
   ]
  },
  {
   "cell_type": "markdown",
   "metadata": {},
   "source": [
    "## Gamma Ray Bursts\n",
    "GRBs are extreme explosions seen in high energies (X-rays and Gamma rays). These originate from far away galaxies, so by the time they reach here, they are, thankfully a miniscule fraction of their original intensity. However, this is still enough to show up as huge spikes in time-series data from X-ray satellites. \n",
    "\n",
    "Today we will use data from an Indian Space Telescope called AstroSat; specifically an instrument on it called CZTI. A list of GRBs found using CZTI is maintained at the CZTI GRB Monitor [Page](http://astrosat.iucaa.in/czti/?q=grb), and the data used here has been taken from the dataset used in the GROWTH Winter School 2018. "
   ]
  },
  {
   "cell_type": "markdown",
   "metadata": {},
   "source": [
    "Download the Data from [this](https://drive.google.com/open?id=1MZrrcWzJbcEGbvYlHYD3gmhn9OI0TAhU) Google Drive folder (it is around 76 MB). We will not be doing any analysis beyond viewing the light curve."
   ]
  },
  {
   "cell_type": "code",
   "execution_count": 123,
   "metadata": {},
   "outputs": [],
   "source": [
    "hdu = fits.open('AS1A02_005T01_9000000948_06884cztM0_level2_common_clean.evt')"
   ]
  },
  {
   "cell_type": "markdown",
   "metadata": {},
   "source": [
    "The HDUs numbered 1,2,3 and 4 are data for 4 independent quadrants of CZTI. Fo today, we will use all of these quadrants together and see the total light curve in X-ray as seen using CZTI. \n",
    "\n",
    "Each row of the file has details about each photon seen by CZTI (that's right, _every_ photon detected). We will only use the time at which the photons were detected here. In a Gamma Ray Burst, we expect to see a large number of photons coming in a short period of time. To see this, we will bin the time data to get the light curve"
   ]
  },
  {
   "cell_type": "code",
   "execution_count": 124,
   "metadata": {},
   "outputs": [],
   "source": [
    "times = np.concatenate((hdu[1].data['Time'], hdu[2].data['Time'],\n",
    "                        hdu[3].data['Time'], hdu[4].data['Time']))"
   ]
  },
  {
   "cell_type": "code",
   "execution_count": 125,
   "metadata": {},
   "outputs": [
    {
     "name": "stderr",
     "output_type": "stream",
     "text": [
      "/Users/nishantmittal/opt/anaconda3/lib/python3.7/site-packages/ipykernel_launcher.py:16: MatplotlibDeprecationWarning: Passing the drawstyle with the linestyle as a single string is deprecated since Matplotlib 3.1 and support will be removed in 3.3; please pass the drawstyle separately using the drawstyle keyword argument to Line2D or set_drawstyle() method (or ds/set_ds()).\n",
      "  app.launch_new_instance()\n"
     ]
    },
    {
     "data": {
      "text/plain": [
       "Text(0, 0.5, '$counts\\\\ s^{-1}$')"
      ]
     },
     "execution_count": 125,
     "metadata": {},
     "output_type": "execute_result"
    },
    {
     "data": {
      "image/png": "[encoded data removed]",
      "text/plain": [
       "<Figure size 432x288 with 1 Axes>"
      ]
     },
     "metadata": {
      "needs_background": "light"
     },
     "output_type": "display_data"
    }
   ],
   "source": [
    "# Define bins. You can change this up and see how the light curve changes\n",
    "binsize = 1\n",
    "# # Use this option to see the entire light curve for an orbit of the Satellite. \n",
    "# # The detectors are switched off above certain regions of the Earth, known as the South-Atlantic Anomaly\n",
    "# tbins = np.arange(times.min(), times.max(), binsize)\n",
    "\n",
    "# Use this data to see only some data containing the GRB. \n",
    "# These times are essentially number of seconds since Midnight, Jan 1, 2010.\n",
    "tbins = np.arange(221292750.0, 221292870.0, binsize)\n",
    "\n",
    "# Bin the time data\n",
    "counts, bins = np.histogram(times, bins=tbins)\n",
    "bins = (bins[1:] + bins[:-1])/2\n",
    "\n",
    "# Plot the light curve\n",
    "plt.plot(bins, counts/binsize, ls='steps-mid')\n",
    "plt.xlabel('Time (s)')\n",
    "plt.ylabel('$counts\\ s^{-1}$')"
   ]
  },
  {
   "cell_type": "markdown",
   "metadata": {},
   "source": [
    "This is how a GRB looks in an X-ray time series. You will notice that the number of photons detected in X-rays is significantly lower than in the Optical wavelengths. Can you think of a way to detect these?"
   ]
  },
  {
   "cell_type": "markdown",
   "metadata": {},
   "source": [
    "One interesting thing about GRBs is that sometimes they have optical counterparts, called the GRB afterglow which fades away very quickly. To conclude this tutorial, we will look at a GRB afterglow observed by the GROWTH-India telescope, reported in this [GCN](https://gcn.gsfc.nasa.gov/gcn/gcn3/25560.gcn3). GCNs are notices circulated whenever astronomers find a transient source. You can see the most recent ones [here](https://gcn.gsfc.nasa.gov/gcn3_archive.html). "
   ]
  },
  {
   "cell_type": "markdown",
   "metadata": {},
   "source": [
    "The GCN has data in the 'g' filter. The columns are Julian Days (essentially, time of observation), dt_minutes (time after the GRB was detected in X-rays, in minutes), and magnitude and error in magnitude. "
   ]
  },
  {
   "cell_type": "markdown",
   "metadata": {},
   "source": [
    "Your final task for today is to plot the light curve from this GRB afterglow and verify the power law given in the GCN."
   ]
  },
  {
   "cell_type": "code",
   "execution_count": 126,
   "metadata": {},
   "outputs": [
    {
     "name": "stdout",
     "output_type": "stream",
     "text": [
      "Filename: AS1A02_005T01_9000000948_06884cztM0_level2_common_clean.evt\n",
      "No.    Name      Ver    Type      Cards   Dimensions   Format\n",
      "  0  PRIMARY       1 PrimaryHDU     115   ()      \n",
      "  1  Q0            1 BinTableHDU    149   477590R x 12C   ['D', 'D', 'I', 'I', 'B', 'B', 'B', 'B', 'I', 'B', 'I', 'E']   \n",
      "  2  Q1            1 BinTableHDU    149   485530R x 12C   ['D', 'D', 'I', 'I', 'B', 'B', 'B', 'B', 'I', 'B', 'I', 'E']   \n",
      "  3  Q2            1 BinTableHDU    149   480574R x 12C   ['D', 'D', 'I', 'I', 'B', 'B', 'B', 'B', 'I', 'B', 'I', 'E']   \n",
      "  4  Q3            1 BinTableHDU    149   463350R x 12C   ['D', 'D', 'I', 'I', 'B', 'B', 'B', 'B', 'I', 'B', 'I', 'E']   \n",
      "  5  VETOSPECTRUM    1 BinTableHDU    101   24192R x 4C   [D, D, 256I, B]   \n",
      "  6  SSM Data      1 BinTableHDU    117   244R x 7C   [D, D, 256I, 512I, 512I, 512I, B]   \n",
      "  7  TEMP          1 BinTableHDU    108   244R x 4C   [D, D, 16E, B]   \n",
      "  8  GTI           1 BinTableHDU    117   112R x 2C   [1D, 1D]   \n",
      "  9  EXPOSURE      1 BinTableHDU     63   4096R x 4C   [D, D, D, D]   \n"
     ]
    }
   ],
   "source": [
    "hdu.info()"
   ]
  },
  {
   "cell_type": "code",
   "execution_count": 130,
   "metadata": {},
   "outputs": [
    {
     "data": {
      "text/plain": [
       "XTENSION= 'BINTABLE'           / binary table extension                         \n",
       "BITPIX  =                    8 / 8-bit bytes                                    \n",
       "NAXIS   =                    2 / 2-dimensional binary table                     \n",
       "NAXIS1  =                   16 / width of table in bytes                        \n",
       "NAXIS2  =                  112 / number of rows in table                        \n",
       "PCOUNT  =                    0 / size of special data area                      \n",
       "GCOUNT  =                    1 / one data group (required keyword)              \n",
       "TFIELDS =                    2 / number of fields in each row                   \n",
       "TTYPE1  = 'START   '           / label for field   1                            \n",
       "TFORM1  = '1D      '           / data format of field: 8-byte DOUBLE            \n",
       "TUNIT1  = 'sec     '           / physical unit of field                         \n",
       "TTYPE2  = 'STOP    '           / label for field   2                            \n",
       "TFORM2  = '1D      '           / data format of field: 8-byte DOUBLE            \n",
       "TUNIT2  = 'sec     '           / physical unit of field                         \n",
       "EXTNAME = 'GTI     '           / name of this binary table extension            \n",
       "ORIGIN  = 'CZTI POC'           / Source of FITS FILE                            \n",
       "CREATOR = 'cztevtclean_v1.0'   / program that produced file                     \n",
       "HDUCLASS= 'OGIP    '           / format confirms to OGIP/GSFC standard          \n",
       "LONGSTRN= 'OGIP 1.0'           / The OGIP long string convention may be used.   \n",
       "CHECKSUM= '4fDc4cAa4cAa4cAa'   / HDU checksum updated 2017-01-05T08:08:21       \n",
       "DATASUM = '543835012'          / data unit checksum updated 2017-01-05T08:08:12 \n",
       "MISSION = 'ASTROSAT'           / Name of the mission/satellite                  \n",
       "TELESCOP= 'ASTROSAT'           / Name of the mission/satellite                  \n",
       "INSTRUME= 'CZTI    '           / Name of the instrument/detector                \n",
       "TSTARTI =            221288272 / Start time of observation Integer part         \n",
       "TSTARTF =                   0. / Start time of observation Fractional part      \n",
       "TSTOPI  =            221295247 / Stop time of observation Integer part          \n",
       "TSTOPF  =                   0. / Stop time of observation Fractional part       \n",
       "TIMESYS = 'UTC     '           / Time is UTC                                    \n",
       "TIMEUNIT= 's       '           / Time is in seconds                             \n",
       "MJDREFI =                55197 / MJDREF Integer part                            \n",
       "MJDREFF =                    0 / MJDREF Fractional part                         \n",
       "TSTART  =           221288272. / Start time of observation                      \n",
       "TSTOP   =           221295247. / Stop time of observation                       \n",
       "OBJECT  = 'Mrk421  '           / Target name                                    \n",
       "RADECSYS= 'ICRS    '           / Reference frame                                \n",
       "EQUINOX =                 2000 / J2000                                          \n",
       "RA_PNT  =             166.1138 / Nominal Pointing RA                            \n",
       "DEC_PNT =             38.20883 / Nominal Pointing DEC                           \n",
       "OBS_ID  = 'A02_005T01_9000000948' / Observation ID                              \n",
       "OBS_MODE= 'POINTING'                                                            \n",
       "DATE-OBS= '2017-01-05'         / Start date of observation                      \n",
       "TIME-OBS= '04:57:51.739900000' / Start time of observation                      \n",
       "DATE-END= '2017-01-05'         / End date of observation                        \n",
       "TIME-END= '06:54:09.740600000' / End time of observation                        \n",
       "TIMEDEL = 2.00000027772809E-05 / Time resolution                                \n",
       "EXPOSURE=     3942.84576797485 / Exposure time                                  \n",
       "TELAPSE =                6975. / Elapsed time                                   \n",
       "DATE    = '2017-01-05T08:08:21' / file creation date (YYYY-MM-DDThh:mm:ss UT)   \n",
       "FILENAME= '/data2/czti/level2/20170103_A02_005T01_9000000948_level2/czti/orbit/'\n",
       "HISTORY Module run by czti                                                      \n",
       "HISTORY Parameter List START for cztscience2event_v1.0                          \n",
       "HISTORY P1 infile=/data2/czti/level1/20170103_A02_005T01_9000000948_level1/czti/\n",
       "HISTORY orbit/06884/modeM0/AS1A02_005T01_9000000948cztM0_level1.fits            \n",
       "HISTORY P2 TCTfile=/data2/czti/level1/20170103_A02_005T01_9000000948_level1/czti\n",
       "HISTORY /orbit/06884/aux/AS1A02_005T01_9000000948czt_level1.tct                 \n",
       "HISTORY P3 outfile=/data2/czti/level2/20170103_A02_005T01_9000000948_level2/czti\n",
       "HISTORY /orbit/06884/modeM0/AS1A02_005T01_9000000948_06884cztM0_level2.fits     \n",
       "HISTORY P4 hdrInfoFile=/data2/czti/level2/20170103_A02_005T01_9000000948_level2/\n",
       "HISTORY czti/orbit/06884/modeM0/AS1A02_005T01_9000000948_06884cztM0_level2.hdr  \n",
       "HISTORY P7 BigEndian=yes                                                        \n",
       "HISTORY P8 clobber=yes                                                          \n",
       "HISTORY P9 history=yes                                                          \n",
       "HISTORY P10 debug=yes                                                           \n",
       "HISTORY Parameter List END                                                      \n",
       "HISTORY Module run by czti                                                      \n",
       "HISTORY Parameter List START for cztbunchclean                                  \n",
       "HISTORY P1 infile=/data2/czti/level2/20170103_A02_005T01_9000000948_level2/czti/\n",
       "HISTORY orbit/06884/modeM0/AS1A02_005T01_9000000948_06884cztM0_level2.evt       \n",
       "HISTORY P2 outfile=/data2/czti/level2/20170103_A02_005T01_9000000948_level2/czti\n",
       "HISTORY /orbit/06884/modeM0/AS1A02_005T01_9000000948_06884cztM0_level2_bc.evt   \n",
       "HISTORY P3 bunchdeftime=30                                                      \n",
       "HISTORY P4 bunch_length_thresh=20                                               \n",
       "HISTORY P5 skipT1=0.000000                                                      \n",
       "HISTORY P6 skipT2=0.001000                                                      \n",
       "HISTORY P7 skipT3=0.001000                                                      \n",
       "HISTORY P8 clobber=yes                                                          \n",
       "HISTORY P9 history=yes                                                          \n",
       "HISTORY Parameter List END                                                      \n",
       "HISTORY Module run by czti                                                      \n",
       "HISTORY Parameter List START for cztgtigen_v1.0                                 \n",
       "HISTORY P1 eventfile=/data2/czti/level2/20170103_A02_005T01_9000000948_level2/cz\n",
       "HISTORY ti/orbit/06884/modeM0/AS1A02_005T01_9000000948_06884cztM0_level2_bc.evt \n",
       "HISTORY P2 mkffile=/data2/czti/level2/20170103_A02_005T01_9000000948_level2/czti\n",
       "HISTORY /orbit/06884/AS1A02_005T01_9000000948_06884czt_level2.mkf               \n",
       "HISTORY P3 thresholdfile=/home/czti/pipeline_config/mkfThresholds.txt           \n",
       "HISTORY P4 outfile=/data2/czti/level2/20170103_A02_005T01_9000000948_level2/czti\n",
       "HISTORY /orbit/06884/modeM0/AS1A02_005T01_9000000948_06884cztM0_level2.gti      \n",
       "HISTORY P5 clobber=yes                                                          \n",
       "HISTORY P6 history=yes                                                          \n",
       "HISTORY Parameter List END                                                      \n",
       "HISTORY Module run by czti                                                      \n",
       "HISTORY Parameter List START for cztdatasel_v1.0                                \n",
       "HISTORY P1 infile=/data2/czti/level2/20170103_A02_005T01_9000000948_level2/czti/\n",
       "HISTORY orbit/06884/modeM0/AS1A02_005T01_9000000948_06884cztM0_level2_bc.evt    \n",
       "HISTORY P2 gtifile=/data2/czti/level2/20170103_A02_005T01_9000000948_level2/czti\n",
       "HISTORY /orbit/06884/modeM0/AS1A02_005T01_9000000948_06884cztM0_level2.gti      \n",
       "HISTORY P3 outfile=/data2/czti/level2/20170103_A02_005T01_9000000948_level2/czti\n",
       "HISTORY /orbit/06884/modeM0/AS1A02_005T01_9000000948_06884cztM0_level2_common_bc\n",
       "HISTORY _ds.evt                                                                 \n",
       "HISTORY P4 gtitype=COMMON                                                       \n",
       "HISTORY P5 clobber=yes                                                          \n",
       "HISTORY P6 history=yes                                                          \n",
       "HISTORY Parameter List END                                                      \n",
       "HISTORY Module run by czti                                                      \n",
       "HISTORY Parameter List START for cztevtclean_v1.0                               \n",
       "HISTORY P1 infile=/data2/czti/level2/20170103_A02_005T01_9000000948_level2/czti/\n",
       "HISTORY orbit/06884/modeM0/AS1A02_005T01_9000000948_06884cztM0_level2_common_bc_\n",
       "HISTORY ds_pc.evt                                                               \n",
       "HISTORY P2 outfile=/data2/czti/level2/20170103_A02_005T01_9000000948_level2/czti\n",
       "HISTORY /orbit/06884/modeM0/AS1A02_005T01_9000000948_06884cztM0_level2_common_cl\n",
       "HISTORY ean.evt                                                                 \n",
       "HISTORY P3 alphaval=0                                                           \n",
       "HISTORY P4 vetorange=0                                                          \n",
       "HISTORY P5 clobber=yes                                                          \n",
       "HISTORY P6 history=yes                                                          \n",
       "HISTORY Parameter List END                                                      "
      ]
     },
     "execution_count": 130,
     "metadata": {},
     "output_type": "execute_result"
    }
   ],
   "source": [
    "hdu[8].header"
   ]
  },
  {
   "cell_type": "code",
   "execution_count": null,
   "metadata": {},
   "outputs": [],
   "source": []
  }
 ],
 "metadata": {
  "kernelspec": {
   "display_name": "Python 3",
   "language": "python",
   "name": "python3"
  },
  "language_info": {
   "codemirror_mode": {
    "name": "ipython",
    "version": 3
   },
   "file_extension": ".py",
   "mimetype": "text/x-python",
   "name": "python",
   "nbconvert_exporter": "python",
   "pygments_lexer": "ipython3",
   "version": "3.7.6"
  }
 },
 "nbformat": 4,
 "nbformat_minor": 4
}
