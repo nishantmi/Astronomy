{
 "cells": [
  {
   "cell_type": "markdown",
   "metadata": {},
   "source": [
    "# Introduction to Python"
   ]
  },
  {
   "cell_type": "markdown",
   "metadata": {},
   "source": [
    "Python is one of the most widely used programming languages ([source](https://octoverse.github.com/#top-languages)), and for a reason. It is very easy to pick-up, extremely versatile (as you will see) and most importantly well supported.\n",
    "\n",
    "Our focus through these tutorials is not just to learn Python however. We are here to learn [Astro](https://cdn130.picsart.com/283094903006201.jpg?type=webp&to=min&r=640). So, each tutorial will introduce a new concept, important in scientific computing, along with an application in Astronomy and Astrophysics.\n",
    "\n",
    "Some more great resources:\n",
    "1. [The Python Wiki](https://wiki.python.org/moin/)\n",
    "2. [SciPy lecture notes](http://scipy-lectures.org/)\n",
    "3. [SciPy reference](https://docs.scipy.org/doc/scipy/reference/)\n",
    "4. [AstroPy Documentation](https://docs.astropy.org/en/stable/) "
   ]
  },
  {
   "cell_type": "markdown",
   "metadata": {},
   "source": [
    "Please note: This is meant to be an intensive 2 week long tutorial session. However, you are free to go ahead at your own pace. The tutorials will always be available at [github.com/krittikaiitb/tutorials](https://github.com/krittikaiitb/tutorials) and you can learn at your own time."
   ]
  },
  {
   "cell_type": "markdown",
   "metadata": {},
   "source": [
    "**Another Note** (I like notes): If you feel, at any point that you don't understand something, take a moment, relax and Google! The internet is your best friend when it comes to programming, and becoming self sufficient in your coding requires you to know how to google. So, don't worry if things feel a bit new; with some practice and a bit of tinkering around (you can do that in this environment very easily!), you will soon be ready to rumble..."
   ]
  },
  {
   "cell_type": "markdown",
   "metadata": {},
   "source": [
    "### By the end of this tutorial, you will have been introduced to Python, and parsed a file to find how many moons each planet has!"
   ]
  },
  {
   "cell_type": "markdown",
   "metadata": {},
   "source": [
    "Our first task on Python?\n",
    "Hello World!<br>\n",
    "(Note the [escape character](http://python-ds.com/python-3-escape-sequences))"
   ]
  },
  {
   "cell_type": "code",
   "execution_count": 1,
   "metadata": {},
   "outputs": [
    {
     "name": "stdout",
     "output_type": "stream",
     "text": [
      "The first thing we shall do is say\n",
      "Hello World!\n"
     ]
    }
   ],
   "source": [
    "print(\"The first thing we shall do is say\\nHello World!\")"
   ]
  },
  {
   "cell_type": "markdown",
   "metadata": {},
   "source": [
    "Print is a function (more on that later) that takes a string (that is the stuff enclosed in the double quotes) and displays it. <br>\n",
    "Of course, we can go quite crazy with just this"
   ]
  },
  {
   "cell_type": "code",
   "execution_count": 2,
   "metadata": {},
   "outputs": [
    {
     "name": "stdout",
     "output_type": "stream",
     "text": [
      "Hello World \n",
      "\n",
      "Hello World\n",
      "\n",
      "Hello 'World'\n",
      "\n",
      "\"Hello\" World\n",
      "\n",
      "'Hello' \"World\" \n",
      "\n",
      "Hello\n",
      "World\n"
     ]
    }
   ],
   "source": [
    "print(\"Hello\",\"World \\n\") # Python already puts a newline after each print(...) by default (this can be changed)\n",
    "print('Hello World\\n')    # BTW, this is how you comment :P\n",
    "print(\"Hello 'World'\\n\")\n",
    "print('\"Hello\" World\\n')\n",
    "print(\"'Hello' \\\"World\\\" \\n\")\n",
    "print('''Hello\n",
    "World''')"
   ]
  },
  {
   "cell_type": "markdown",
   "metadata": {},
   "source": [
    "With a bit of [string formatting](https://docs.python.org/3/library/string.html#format-string-syntax), you can make your print statements as customizable as you want."
   ]
  },
  {
   "cell_type": "code",
   "execution_count": 5,
   "metadata": {},
   "outputs": [
    {
     "name": "stdout",
     "output_type": "stream",
     "text": [
      "Hello, my name is Krittika\n",
      "Hello, my name is Krittika\n",
      "Hello, my name is Krittika\n"
     ]
    }
   ],
   "source": [
    "name = \"Krittika\"\n",
    "print(\"Hello, my name is %s\"% name)\n",
    "print(\"Hello, my name is {}\".format(name))\n",
    "print(f\"Hello, my name is {name}\") # Will only work in Python 3.6+"
   ]
  },
  {
   "cell_type": "markdown",
   "metadata": {},
   "source": [
    "And in that cell, we went ahead of ourselves a bit. What was that first line?"
   ]
  },
  {
   "cell_type": "code",
   "execution_count": 6,
   "metadata": {},
   "outputs": [],
   "source": [
    "name = \"Krittika, The Astronomy Club of IIT Bombay\""
   ]
  },
  {
   "cell_type": "markdown",
   "metadata": {},
   "source": [
    "We are assigning a value (which is the string above) to a variable.<br>\n",
    "Of course, strings aren't all we can assign to variables. There are different data types in Python, which you can explore below:"
   ]
  },
  {
   "cell_type": "code",
   "execution_count": 7,
   "metadata": {},
   "outputs": [],
   "source": [
    "integer = 1\n",
    "floating_point = 3.14\n",
    "complex_number = 3 + 4j\n",
    "boolean_variable = True"
   ]
  },
  {
   "cell_type": "code",
   "execution_count": 10,
   "metadata": {},
   "outputs": [
    {
     "name": "stdout",
     "output_type": "stream",
     "text": [
      "<class 'complex'>\n"
     ]
    }
   ],
   "source": [
    "print('{}'.format(type(complex_number))) # Try to re-write this with .format() instead"
   ]
  },
  {
   "cell_type": "markdown",
   "metadata": {},
   "source": [
    "You can also use Python as a calculator!"
   ]
  },
  {
   "cell_type": "code",
   "execution_count": 11,
   "metadata": {},
   "outputs": [
    {
     "name": "stdout",
     "output_type": "stream",
     "text": [
      "a+b = 3\n",
      "a-b = -1\n",
      "a*b = 2\n",
      "a/b = 0.5\n",
      "a//b = 0\n",
      "a//b = 0\n",
      "a**b = 1\n"
     ]
    }
   ],
   "source": [
    "a = 1 # Explore with different values of a and b. Try using a complex number!\n",
    "b = 2 # Try using a string!\n",
    "print(\"a+b = {}\".format(a+b))\n",
    "print(\"a-b = {}\".format(a-b))\n",
    "print(\"a*b = {}\".format(a*b))\n",
    "print(\"a/b = {}\".format(a/b))\n",
    "print(\"a//b = {}\".format(a//b))\n",
    "print(\"a//b = {}\".format(a//b))\n",
    "print(\"a**b = {}\".format(a**b))"
   ]
  },
  {
   "cell_type": "markdown",
   "metadata": {},
   "source": [
    "We have an idea of how to store a value now, and basic ways of manipulating it. However, what if we need to store many values?"
   ]
  },
  {
   "cell_type": "markdown",
   "metadata": {},
   "source": [
    "#### Tuples ()\n",
    "Sequence of values (which can be of mixed types) which are immutable(can't change it), written within parantheses"
   ]
  },
  {
   "cell_type": "code",
   "execution_count": 12,
   "metadata": {},
   "outputs": [],
   "source": [
    "tuple1=('a','b','c','d','e','f','g','h',1,2,3,4,5,6,7,8,9,10)"
   ]
  },
  {
   "cell_type": "markdown",
   "metadata": {},
   "source": [
    "To access the elements, use the indices (starting from zero)"
   ]
  },
  {
   "cell_type": "code",
   "execution_count": 13,
   "metadata": {},
   "outputs": [
    {
     "data": {
      "text/plain": [
       "'a'"
      ]
     },
     "execution_count": 13,
     "metadata": {},
     "output_type": "execute_result"
    }
   ],
   "source": [
    "tuple1[0]"
   ]
  },
  {
   "cell_type": "markdown",
   "metadata": {},
   "source": [
    "A very useful trick is index slicing, where you can access a subset of the tuple. This works as follows:"
   ]
  },
  {
   "cell_type": "code",
   "execution_count": 14,
   "metadata": {},
   "outputs": [
    {
     "data": {
      "text/plain": [
       "('e', 'f', 'g', 'h', 1)"
      ]
     },
     "execution_count": 14,
     "metadata": {},
     "output_type": "execute_result"
    }
   ],
   "source": [
    "tuple1[4:9] # [inclusive:exclusive]"
   ]
  },
  {
   "cell_type": "markdown",
   "metadata": {},
   "source": [
    "The full syntax for index slicing is \\[inclusive_start:exclusive_end:step_size\\], so you can get something like"
   ]
  },
  {
   "cell_type": "code",
   "execution_count": 15,
   "metadata": {},
   "outputs": [
    {
     "data": {
      "text/plain": [
       "('c', 'e', 'g', 1, 3, 5, 7)"
      ]
     },
     "execution_count": 15,
     "metadata": {},
     "output_type": "execute_result"
    }
   ],
   "source": [
    "tuple1[2:15:2]"
   ]
  },
  {
   "cell_type": "markdown",
   "metadata": {},
   "source": [
    "If you leave inclusive_start or exclusive_end blank, then that is saying slice from the beginning, or till the end respectively"
   ]
  },
  {
   "cell_type": "code",
   "execution_count": 16,
   "metadata": {},
   "outputs": [
    {
     "data": {
      "text/plain": [
       "('a', 'c', 'e', 'g', 1, 3)"
      ]
     },
     "execution_count": 16,
     "metadata": {},
     "output_type": "execute_result"
    }
   ],
   "source": [
    "tuple1[:12:2]"
   ]
  },
  {
   "cell_type": "code",
   "execution_count": 17,
   "metadata": {},
   "outputs": [
    {
     "data": {
      "text/plain": [
       "('f', 1, 4, 7, 10)"
      ]
     },
     "execution_count": 17,
     "metadata": {},
     "output_type": "execute_result"
    }
   ],
   "source": [
    "tuple1[5::3]"
   ]
  },
  {
   "cell_type": "markdown",
   "metadata": {},
   "source": [
    "Count backwards using negative indices"
   ]
  },
  {
   "cell_type": "code",
   "execution_count": 18,
   "metadata": {},
   "outputs": [
    {
     "data": {
      "text/plain": [
       "9"
      ]
     },
     "execution_count": 18,
     "metadata": {},
     "output_type": "execute_result"
    }
   ],
   "source": [
    "tuple1[-2]"
   ]
  },
  {
   "cell_type": "markdown",
   "metadata": {},
   "source": [
    "Index slicing works with negative indices too!"
   ]
  },
  {
   "cell_type": "markdown",
   "metadata": {},
   "source": [
    "#### Lists []\n",
    "Lists are mutable. Otherwise, they have similar properties to a tuple"
   ]
  },
  {
   "cell_type": "code",
   "execution_count": 19,
   "metadata": {},
   "outputs": [],
   "source": [
    "nested_list=[[1,2,3],['a','b','c'],['astro','cosmo','gravity']] # You can also have nested tuples!"
   ]
  },
  {
   "cell_type": "markdown",
   "metadata": {},
   "source": [
    "Nested lists are essentially [lists within lists](https://en.wikipedia.org/wiki/Inception). Nested lists will feature a good deal in our tutorials later, so this is important. \n",
    "\n",
    "Nested lists (or tuples) have more than one index, which can be used as follows:"
   ]
  },
  {
   "cell_type": "code",
   "execution_count": 22,
   "metadata": {},
   "outputs": [
    {
     "data": {
      "text/plain": [
       "[[1, 2, 3], ['a', 'b', 'c'], ['astro', 'cosmo', 'gravity']]"
      ]
     },
     "execution_count": 22,
     "metadata": {},
     "output_type": "execute_result"
    }
   ],
   "source": [
    "nested_list[:][:] # Play around with this!"
   ]
  },
  {
   "cell_type": "markdown",
   "metadata": {},
   "source": [
    "With a list, you can change entries, append new ones, or delete some"
   ]
  },
  {
   "cell_type": "code",
   "execution_count": 31,
   "metadata": {},
   "outputs": [
    {
     "name": "stdout",
     "output_type": "stream",
     "text": [
      "['astro', 3.26, 2, 3, 'cosmo']\n"
     ]
    }
   ],
   "source": [
    "my_list=['astro',1,2,3,'cosmo']\n",
    "my_list[1]=3.26\n",
    "print(my_list)"
   ]
  },
  {
   "cell_type": "code",
   "execution_count": 32,
   "metadata": {},
   "outputs": [
    {
     "name": "stdout",
     "output_type": "stream",
     "text": [
      "['astro', 3.26, 2, 3, 'cosmo', ['gravity', 'relativity']]\n"
     ]
    }
   ],
   "source": [
    "my_list.append(['gravity','relativity']) # This will be important later!\n",
    "print(my_list)"
   ]
  },
  {
   "cell_type": "code",
   "execution_count": 33,
   "metadata": {},
   "outputs": [
    {
     "name": "stdout",
     "output_type": "stream",
     "text": [
      "['astro', 'cosmo', ['gravity', 'relativity']]\n"
     ]
    }
   ],
   "source": [
    "del my_list[1:4]\n",
    "print(my_list)"
   ]
  },
  {
   "cell_type": "code",
   "execution_count": 34,
   "metadata": {},
   "outputs": [
    {
     "name": "stdout",
     "output_type": "stream",
     "text": [
      "['astro', ['gravity', 'relativity']]\n"
     ]
    }
   ],
   "source": [
    "my_list.remove('cosmo')\n",
    "print(my_list)"
   ]
  },
  {
   "cell_type": "markdown",
   "metadata": {},
   "source": [
    "One more function, which works on any kind of collection data type (tuples, list, dictionaries ...) is `len`, which gives the length."
   ]
  },
  {
   "cell_type": "code",
   "execution_count": 35,
   "metadata": {},
   "outputs": [
    {
     "name": "stdout",
     "output_type": "stream",
     "text": [
      "2\n"
     ]
    }
   ],
   "source": [
    "print(len(my_list)) # Note that the list inside the list is counted as one element."
   ]
  },
  {
   "cell_type": "markdown",
   "metadata": {},
   "source": [
    "There are a lot of operations on lists. One resource you can use to find out more is [this](https://www.geeksforgeeks.org/python-list/). Again, Google is your best friend!"
   ]
  },
  {
   "cell_type": "markdown",
   "metadata": {},
   "source": [
    "#### A note on Strings"
   ]
  },
  {
   "cell_type": "markdown",
   "metadata": {},
   "source": [
    "We have seen strings before. They are, in a way, similar to tuples, where you can access each individual element (in this case the characters of the strings) using the indices; you can also use index slicing. "
   ]
  },
  {
   "cell_type": "code",
   "execution_count": 36,
   "metadata": {},
   "outputs": [],
   "source": [
    "my_string = \"Krittika: The Astronomy Club of IITB\""
   ]
  },
  {
   "cell_type": "code",
   "execution_count": 44,
   "metadata": {},
   "outputs": [
    {
     "name": "stdout",
     "output_type": "stream",
     "text": [
      "Krittika:\n"
     ]
    }
   ],
   "source": [
    "# Try to get any substring that you want using index slicing\n",
    "print(my_string[0:9:1])"
   ]
  },
  {
   "cell_type": "markdown",
   "metadata": {},
   "source": [
    "There are also a few operations on strings, which we will list down below. You are not expected to memorize them. It takes time and experience in coding to be able to remember them, and even then you will still find yourself having to look up things. That is completely fine. \n",
    "\n",
    "You can find a whole list of these in the official Python documentation (https://docs.python.org/3.6/library/string.html)"
   ]
  },
  {
   "cell_type": "code",
   "execution_count": 45,
   "metadata": {},
   "outputs": [
    {
     "name": "stdout",
     "output_type": "stream",
     "text": [
      "['Krittika:', 'The', 'Astronomy', 'Club', 'of', 'IITB']\n"
     ]
    }
   ],
   "source": [
    "print(my_string.split())"
   ]
  },
  {
   "cell_type": "code",
   "execution_count": 46,
   "metadata": {},
   "outputs": [
    {
     "name": "stdout",
     "output_type": "stream",
     "text": [
      "['Krittika', ' The Astronomy Club of IITB']\n"
     ]
    }
   ],
   "source": [
    "print(my_string.split(':')) #Try putting in another character or a string and see how the output changes"
   ]
  },
  {
   "cell_type": "code",
   "execution_count": 47,
   "metadata": {},
   "outputs": [],
   "source": [
    "string_with_spaces = \"   Why are there spaces here?   \" # Let's get rid of those spaces in 2 ways"
   ]
  },
  {
   "cell_type": "code",
   "execution_count": 48,
   "metadata": {},
   "outputs": [
    {
     "name": "stdout",
     "output_type": "stream",
     "text": [
      "['Why', 'are', 'there', 'spaces', 'here?']\n"
     ]
    }
   ],
   "source": [
    "# Split using white space:\n",
    "list_of_words = string_with_spaces.split()\n",
    "print(list_of_words)"
   ]
  },
  {
   "cell_type": "code",
   "execution_count": 49,
   "metadata": {},
   "outputs": [
    {
     "data": {
      "text/plain": [
       "'Why are there spaces here?'"
      ]
     },
     "execution_count": 49,
     "metadata": {},
     "output_type": "execute_result"
    }
   ],
   "source": [
    "# Make a string, by joining the items of the list\n",
    "string_without_spaces = ' '.join(list_of_words) # what happens if you use '&' instead of ' '?\n",
    "string_without_spaces"
   ]
  },
  {
   "cell_type": "code",
   "execution_count": 50,
   "metadata": {},
   "outputs": [
    {
     "data": {
      "text/plain": [
       "'Why are there spaces here?'"
      ]
     },
     "execution_count": 50,
     "metadata": {},
     "output_type": "execute_result"
    }
   ],
   "source": [
    "# or, you can just use another function\n",
    "string_with_spaces.strip() # What if you use something like string.split(<some_string>)? It will remove that from the beginning and ending!"
   ]
  },
  {
   "cell_type": "markdown",
   "metadata": {},
   "source": [
    "#### Dictionaries {}\n",
    "Instead of indexing by strictly numbers from 0 to `len`-1, we can index a _value_ with any _key_ as long as the _key_ is immutable (can be a tuple)."
   ]
  },
  {
   "cell_type": "code",
   "execution_count": 51,
   "metadata": {},
   "outputs": [],
   "source": [
    "my_dictionary = {'Phobos':'Mars', 'Ganymede':'Jupiter', 'Titan':'Saturn', 'Titania':'Uranus', 'Triton':'Neptune'}"
   ]
  },
  {
   "cell_type": "code",
   "execution_count": 59,
   "metadata": {},
   "outputs": [
    {
     "name": "stdout",
     "output_type": "stream",
     "text": [
      "The largest moon of Mars is Phobos\n",
      "The largest moon of Jupiter is Ganymede\n",
      "The largest moon of Saturn is Titan\n",
      "The largest moon of Uranus is Titania\n",
      "The largest moon of Neptune is Triton\n"
     ]
    }
   ],
   "source": [
    "moon = 'Phobos'\n",
    "\n",
    "for key in my_dictionary:\n",
    "    moon = key\n",
    "    print(f'The largest moon of {my_dictionary[moon]} is {moon}')"
   ]
  },
  {
   "cell_type": "markdown",
   "metadata": {},
   "source": [
    "\n",
    "\n",
    "There are of course, a lot more to know about each of these. But this will be sufficient for this tutorial. With practice and experience, you will learn more and more about lists, tuples, dictionaries and sets(wait, what's that?)"
   ]
  },
  {
   "cell_type": "markdown",
   "metadata": {},
   "source": [
    "### Conditionals in Python"
   ]
  },
  {
   "cell_type": "markdown",
   "metadata": {},
   "source": [
    "Control flow statements like loops and conditionals have blocks indicated by indentation. Any number of whitespaces is syntactically correct as long as it is consistent within a block.\n",
    "\n",
    "The `if...elif...if` statement can be used to run different blocks based on truth values of boolean expressions.\n",
    "\n",
    "Wooo. Those were all certainly words. What this means is this:\n",
    "1. You can choose to run certain statements based on whether some condition is satisfied or not: conditionals\n",
    "2. You can run the same set of statements (perhaps with some changes) several times (this is called iteration): loops (imaginative names, I know)"
   ]
  },
  {
   "cell_type": "markdown",
   "metadata": {},
   "source": [
    "Play around with these cells and see for yourself how this will work. "
   ]
  },
  {
   "cell_type": "code",
   "execution_count": 62,
   "metadata": {},
   "outputs": [
    {
     "name": "stdout",
     "output_type": "stream",
     "text": [
      "i am in the elif block\n",
      "5 is equal to 5\n"
     ]
    }
   ],
   "source": [
    "a=5\n",
    "if a<5:\n",
    "    print(\"i am in the if block\")\n",
    "    print(a,\"is less than 5\")\n",
    "elif a==5:\n",
    "    print(\"i am in the elif block\")\n",
    "    print(a, \"is equal to 5\")\n",
    "else:\n",
    "    print(\"i am in the else block\")\n",
    "    print(a, \"i more than 5\")\n"
   ]
  },
  {
   "cell_type": "code",
   "execution_count": 63,
   "metadata": {},
   "outputs": [
    {
     "name": "stdout",
     "output_type": "stream",
     "text": [
      "b is between 7 and 9\n"
     ]
    }
   ],
   "source": [
    "b=8\n",
    "if  7 < b < 9:\n",
    "    print(\"b is between 7 and 9\")\n",
    "elif b < 7:\n",
    "    print(\"b is smaller than 7\")\n",
    "else:\n",
    "    print(\"b is greater than 9\")"
   ]
  },
  {
   "cell_type": "markdown",
   "metadata": {},
   "source": [
    "Logical operations `and`, `or`, and `not` can also be used"
   ]
  },
  {
   "cell_type": "code",
   "execution_count": 60,
   "metadata": {},
   "outputs": [
    {
     "name": "stdout",
     "output_type": "stream",
     "text": [
      "False\n"
     ]
    }
   ],
   "source": [
    "a=True\n",
    "b=False\n",
    "print(a and b)"
   ]
  },
  {
   "cell_type": "code",
   "execution_count": 64,
   "metadata": {},
   "outputs": [
    {
     "data": {
      "text/plain": [
       "Ellipsis"
      ]
     },
     "execution_count": 64,
     "metadata": {},
     "output_type": "execute_result"
    }
   ],
   "source": [
    "# Try to use a logical operation in an if..elif..else statement. Find if a given value c is less than 0, \n",
    "# greater than 10, or in between the two\n",
    "\n",
    "..."
   ]
  },
  {
   "cell_type": "markdown",
   "metadata": {},
   "source": [
    "### Loops\n",
    "There are two types of loops: `for` and `while`. \n",
    "\n",
    "The usage is very straightforward, but there are nuances to both of these that we will explore in detail later."
   ]
  },
  {
   "cell_type": "code",
   "execution_count": 65,
   "metadata": {},
   "outputs": [
    {
     "name": "stdout",
     "output_type": "stream",
     "text": [
      "1\n",
      "2\n",
      "3\n",
      "4\n"
     ]
    }
   ],
   "source": [
    "for i in [1,2,3,4]:\n",
    "    print(i)"
   ]
  },
  {
   "cell_type": "code",
   "execution_count": 66,
   "metadata": {},
   "outputs": [
    {
     "name": "stdout",
     "output_type": "stream",
     "text": [
      "0 2 4 6 8 "
     ]
    }
   ],
   "source": [
    "for i in range(0,10,2): # range gives you a range of numbers! range(inclusive_start, exclusive_end, step). Seems familiar?\n",
    "    print(i, end=' ') # Foreshadowing, you can change the default behaviour of print to add a newline."
   ]
  },
  {
   "cell_type": "code",
   "execution_count": 67,
   "metadata": {},
   "outputs": [
    {
     "name": "stdout",
     "output_type": "stream",
     "text": [
      "25 16 9 4 1 "
     ]
    }
   ],
   "source": [
    "my_iter=5\n",
    "while my_iter > 0:\n",
    "    print(my_iter**2, end=' ')\n",
    "    my_iter-=1"
   ]
  },
  {
   "cell_type": "markdown",
   "metadata": {},
   "source": [
    "### Parsing a file for data\n",
    "This is perhaps one of the more important parts in this tutorial, which will enable you to start working with actual data. In the file `Moons_and_planets.csv`, we can find the names of the moons of each planet as well as the planet they orbit (yes, we know we included Pluto. Cut it some slack!)\n",
    "\n",
    "The data has been taken from https://en.wikipedia.org/wiki/List_of_natural_satellites. This employs something called web scraping, which we will have a look at later. "
   ]
  },
  {
   "cell_type": "markdown",
   "metadata": {},
   "source": [
    "You are encouraged to play around with this set of code. Try removing some of the functions and seeing why they have been used (remove the `split('\\n')` in the next cell and see why it is necessary)"
   ]
  },
  {
   "cell_type": "code",
   "execution_count": 149,
   "metadata": {},
   "outputs": [],
   "source": [
    "with open('Moons_and_planets.csv', 'r') as f:\n",
    "    lines = f.read().split('\\n') # split each line"
   ]
  },
  {
   "cell_type": "code",
   "execution_count": 150,
   "metadata": {},
   "outputs": [
    {
     "name": "stdout",
     "output_type": "stream",
     "text": [
      "# Name of Moon, Name of Planet, Diameter (km)\n"
     ]
    }
   ],
   "source": [
    "print(lines[0])"
   ]
  },
  {
   "cell_type": "code",
   "execution_count": 151,
   "metadata": {},
   "outputs": [],
   "source": [
    "data_moons = [] # Define an empty list. We will append our values to this\n",
    "for line in lines:\n",
    "    data_moons.append(line.split(',')) # split each element"
   ]
  },
  {
   "cell_type": "code",
   "execution_count": 157,
   "metadata": {},
   "outputs": [
    {
     "data": {
      "text/plain": [
       "[['# Name of Moon', ' Name of Planet', ' Diameter (km)'],\n",
       " [1737.1, 'Earth', 'Moon'],\n",
       " [11.1, 'Mars', 'Phobos'],\n",
       " [6.2, 'Mars', 'Deimos'],\n",
       " [1818.1, 'Jupiter', 'Io'],\n",
       " [1560.7, 'Jupiter', 'Europa'],\n",
       " [2634.1, 'Jupiter', 'Ganymede'],\n",
       " [2408.4, 'Jupiter', 'Callisto'],\n",
       " [83.5, 'Jupiter', 'Amalthea'],\n",
       " [67.0, 'Jupiter', 'Himalia'],\n",
       " [43.0, 'Jupiter', 'Elara'],\n",
       " [30.0, 'Jupiter', 'Pasiphae'],\n",
       " [19.0, 'Jupiter', 'Sinope'],\n",
       " [18.0, 'Jupiter', 'Lysithea'],\n",
       " [23.0, 'Jupiter', 'Carme'],\n",
       " [14.0, 'Jupiter', 'Ananke'],\n",
       " [10.0, 'Jupiter', 'Leda'],\n",
       " [49.3, 'Jupiter', 'Thebe'],\n",
       " [8.2, 'Jupiter', 'Adrastea'],\n",
       " [21.5, 'Jupiter', 'Metis'],\n",
       " [4.3, 'Jupiter', 'Callirrhoe'],\n",
       " [4.0, 'Jupiter', 'Themisto'],\n",
       " [2.7, 'Jupiter', 'Megaclite'],\n",
       " [2.5, 'Jupiter', 'Taygete'],\n",
       " [1.9, 'Jupiter', 'Chaldene'],\n",
       " [2.2, 'Jupiter', 'Harpalyke'],\n",
       " [2.6, 'Jupiter', 'Kalyke'],\n",
       " [2.6, 'Jupiter', 'Iocaste'],\n",
       " [1.6, 'Jupiter', 'Erinome'],\n",
       " [1.9, 'Jupiter', 'Isonoe'],\n",
       " [3.4, 'Jupiter', 'Praxidike'],\n",
       " [2.0, 'Jupiter', 'Autonoe'],\n",
       " [2.0, 'Jupiter', 'Thyone'],\n",
       " [2.0, 'Jupiter', 'Hermippe'],\n",
       " [1.5, 'Jupiter', 'Aitne'],\n",
       " [1.5, 'Jupiter', 'Eurydome'],\n",
       " [1.5, 'Jupiter', 'Euanthe'],\n",
       " [1.0, 'Jupiter', 'Euporie'],\n",
       " [1.0, 'Jupiter', 'Orthosie'],\n",
       " [1.0, 'Jupiter', 'Sponde'],\n",
       " [1.0, 'Jupiter', 'Kale'],\n",
       " [1.0, 'Jupiter', 'Pasithee'],\n",
       " [1.5, 'Jupiter', 'Hegemone'],\n",
       " [1.0, 'Jupiter', 'Mneme'],\n",
       " [2.0, 'Jupiter', 'Aoede'],\n",
       " [1.0, 'Jupiter', 'Thelxinoe'],\n",
       " [1.5, 'Jupiter', 'Arche'],\n",
       " [1.0, 'Jupiter', 'Kallichore'],\n",
       " [2.0, 'Jupiter', 'Helike'],\n",
       " [1.5, 'Jupiter', 'Carpo'],\n",
       " [2.0, 'Jupiter', 'Eukelade'],\n",
       " [1.0, 'Jupiter', 'Cyllene'],\n",
       " [1.0, 'Jupiter', 'Kore'],\n",
       " [1.0, 'Jupiter', 'Herse'],\n",
       " [1.0, 'Jupiter', 'S/2010 J 1'],\n",
       " [0.5, 'Jupiter', 'S/2010 J 2'],\n",
       " [2.0, 'Jupiter', 'Dia'],\n",
       " [3.0, 'Jupiter', 'S/2016 J 1'],\n",
       " [1.0, 'Jupiter', 'S/2003 J 18'],\n",
       " [0.5, 'Jupiter', 'S/2011 J 2'],\n",
       " [2.0, 'Jupiter', 'Eirene'],\n",
       " [1.0, 'Jupiter', 'Philophrosyne'],\n",
       " [2.0, 'Jupiter', 'S/2017 J 1'],\n",
       " [1.0, 'Jupiter', 'Eupheme'],\n",
       " [1.0, 'Jupiter', 'S/2003 J 19'],\n",
       " [0.5, 'Jupiter', 'Valetudo'],\n",
       " [1.0, 'Jupiter', 'S/2017 J 2'],\n",
       " [1.0, 'Jupiter', 'S/2017 J 3'],\n",
       " [1.0, 'Jupiter', 'Pandia'],\n",
       " [1.0, 'Jupiter', 'S/2017 J 5'],\n",
       " [1.0, 'Jupiter', 'S/2017 J 6'],\n",
       " [1.0, 'Jupiter', 'S/2017 J 7'],\n",
       " [0.5, 'Jupiter', 'S/2017 J 8'],\n",
       " [1.0, 'Jupiter', 'S/2017 J 9'],\n",
       " [1.0, 'Jupiter', 'Ersa'],\n",
       " [0.5, 'Jupiter', 'S/2011 J 1'],\n",
       " [1.0, 'Jupiter', 'S/2003 J 2'],\n",
       " [1.0, 'Jupiter', 'S/2003 J 4'],\n",
       " [0.5, 'Jupiter', 'S/2003 J 9'],\n",
       " [1.0, 'Jupiter', 'S/2003 J 10'],\n",
       " [0.5, 'Jupiter', 'S/2003 J 12'],\n",
       " [1.0, 'Jupiter', 'S/2003 J 16'],\n",
       " [1.0, 'Jupiter', 'S/2003 J 23'],\n",
       " [198.2, 'Saturn', 'Mimas'],\n",
       " [252.3, 'Saturn', 'Enceladus'],\n",
       " [536.3, 'Saturn', 'Tethys'],\n",
       " [562.5, 'Saturn', 'Dione'],\n",
       " [764.5, 'Saturn', 'Rhea'],\n",
       " [2575.5, 'Saturn', 'Titan'],\n",
       " [138.6, 'Saturn', 'Hyperion'],\n",
       " [734.5, 'Saturn', 'Iapetus'],\n",
       " [106.6, 'Saturn', 'Phoebe'],\n",
       " [90.4, 'Saturn', 'Janus'],\n",
       " [58.3, 'Saturn', 'Epimetheus'],\n",
       " [16.0, 'Saturn', 'Helene'],\n",
       " [12.0, 'Saturn', 'Telesto'],\n",
       " [9.5, 'Saturn', 'Calypso'],\n",
       " [15.3, 'Saturn', 'Atlas'],\n",
       " [46.8, 'Saturn', 'Prometheus'],\n",
       " [40.6, 'Saturn', 'Pandora'],\n",
       " [12.8, 'Saturn', 'Pan'],\n",
       " [9.0, 'Saturn', 'Ymir'],\n",
       " [11.0, 'Saturn', 'Paaliaq'],\n",
       " [7.5, 'Saturn', 'Tarvos'],\n",
       " [6.0, 'Saturn', 'Ijiraq'],\n",
       " [3.5, 'Saturn', 'Suttungr'],\n",
       " [8.0, 'Saturn', 'Kiviuq'],\n",
       " [3.5, 'Saturn', 'Mundilfari'],\n",
       " [16.0, 'Saturn', 'Albiorix'],\n",
       " [4.0, 'Saturn', 'Skathi'],\n",
       " [5.0, 'Saturn', 'Erriapus'],\n",
       " [20.0, 'Saturn', 'Siarnaq'],\n",
       " [3.5, 'Saturn', 'Thrymr'],\n",
       " [3.5, 'Saturn', 'Narvi'],\n",
       " [1.6, 'Saturn', 'Methone'],\n",
       " [2.0, 'Saturn', 'Pallene'],\n",
       " [1.25, 'Saturn', 'Polydeuces'],\n",
       " [3.8, 'Saturn', 'Daphnis'],\n",
       " [3.0, 'Saturn', 'Aegir'],\n",
       " [3.0, 'Saturn', 'Bebhionn'],\n",
       " [3.0, 'Saturn', 'Bergelmir'],\n",
       " [3.5, 'Saturn', 'Bestla'],\n",
       " [2.5, 'Saturn', 'Farbauti'],\n",
       " [2.0, 'Saturn', 'Fenrir'],\n",
       " [3.0, 'Saturn', 'Fornjot'],\n",
       " [3.0, 'Saturn', 'Hati'],\n",
       " [4.0, 'Saturn', 'Hyrrokkin'],\n",
       " [3.5, 'Saturn', 'Kari'],\n",
       " [3.0, 'Saturn', 'Loge'],\n",
       " [3.0, 'Saturn', 'Skoll'],\n",
       " [3.0, 'Saturn', 'Surtur'],\n",
       " [1.0, 'Saturn', 'Anthe'],\n",
       " [3.0, 'Saturn', 'Jarnsaxa'],\n",
       " [3.0, 'Saturn', 'Greip'],\n",
       " [3.5, 'Saturn', 'Tarqeq'],\n",
       " [0.33, 'Saturn', 'Aegaeon'],\n",
       " [3.0, 'Saturn', 'S/2004 S 7'],\n",
       " [2.5, 'Saturn', 'S/2004 S 12'],\n",
       " [3.0, 'Saturn', 'S/2004 S 13'],\n",
       " [2.0, 'Saturn', 'S/2004 S 17'],\n",
       " [3.0, 'Saturn', 'S/2006 S 1'],\n",
       " [3.0, 'Saturn', 'S/2006 S 3'],\n",
       " [3.0, 'Saturn', 'S/2007 S 2'],\n",
       " [3.0, 'Saturn', 'S/2007 S 3'],\n",
       " [0.15, 'Saturn', 'S/2009 S 1'],\n",
       " [3.0, 'Saturn', 'S/2004 S 20'],\n",
       " [3.0, 'Saturn', 'S/2004 S 21'],\n",
       " [3.0, 'Saturn', 'S/2004 S 22'],\n",
       " [4.0, 'Saturn', 'S/2004 S 23'],\n",
       " [3.0, 'Saturn', 'S/2004 S 24'],\n",
       " [4.0, 'Saturn', 'S/2004 S 25'],\n",
       " [4.0, 'Saturn', 'S/2004 S 26'],\n",
       " [6.0, 'Saturn', 'S/2004 S 27'],\n",
       " [4.0, 'Saturn', 'S/2004 S 28'],\n",
       " [4.0, 'Saturn', 'S/2004 S 29'],\n",
       " [3.0, 'Saturn', 'S/2004 S 30'],\n",
       " [4.0, 'Saturn', 'S/2004 S 31'],\n",
       " [4.0, 'Saturn', 'S/2004 S 32'],\n",
       " [4.0, 'Saturn', 'S/2004 S 33'],\n",
       " [3.0, 'Saturn', 'S/2004 S 34'],\n",
       " [6.0, 'Saturn', 'S/2004 S 35'],\n",
       " [3.0, 'Saturn', 'S/2004 S 36'],\n",
       " [4.0, 'Saturn', 'S/2004 S 37'],\n",
       " [4.0, 'Saturn', 'S/2004 S 38'],\n",
       " [3.0, 'Saturn', 'S/2004 S 39'],\n",
       " [578.9, 'Uranus', 'Ariel'],\n",
       " [584.7, 'Uranus', 'Umbriel'],\n",
       " [788.9, 'Uranus', 'Titania'],\n",
       " [761.4, 'Uranus', 'Oberon'],\n",
       " [235.8, 'Uranus', 'Miranda'],\n",
       " [20.1, 'Uranus', 'Cordelia'],\n",
       " [21.4, 'Uranus', 'Ophelia'],\n",
       " [25.7, 'Uranus', 'Bianca'],\n",
       " [39.8, 'Uranus', 'Cressida'],\n",
       " [32.0, 'Uranus', 'Desdemona'],\n",
       " [46.8, 'Uranus', 'Juliet'],\n",
       " [67.6, 'Uranus', 'Portia'],\n",
       " [36.0, 'Uranus', 'Rosalind'],\n",
       " [40.3, 'Uranus', 'Belinda'],\n",
       " [81.0, 'Uranus', 'Puck'],\n",
       " [21.0, 'Uranus', 'Caliban'],\n",
       " [78.5, 'Uranus', 'Sycorax'],\n",
       " [25.0, 'Uranus', 'Prospero'],\n",
       " [24.0, 'Uranus', 'Setebos'],\n",
       " [10.0, 'Uranus', 'Stephano'],\n",
       " [9.0, 'Uranus', 'Trinculo'],\n",
       " [6.0, 'Uranus', 'Francisco'],\n",
       " [5.5, 'Uranus', 'Margaret'],\n",
       " [6.0, 'Uranus', 'Ferdinand'],\n",
       " [15.0, 'Uranus', 'Perdita'],\n",
       " [6.0, 'Uranus', 'Mab'],\n",
       " [9.0, 'Uranus', 'Cupid'],\n",
       " [1353.4, 'Neptune', 'Triton'],\n",
       " [178.5, 'Neptune', 'Nereid'],\n",
       " [33.0, 'Neptune', 'Naiad'],\n",
       " [41.0, 'Neptune', 'Thalassa'],\n",
       " [75.0, 'Neptune', 'Despina'],\n",
       " [88.0, 'Neptune', 'Galatea'],\n",
       " [97.0, 'Neptune', 'Larissa'],\n",
       " [210.0, 'Neptune', 'Proteus'],\n",
       " [31.0, 'Neptune', 'Halimede'],\n",
       " [20.0, 'Neptune', 'Psamathe'],\n",
       " [22.0, 'Neptune', 'Sao'],\n",
       " [21.0, 'Neptune', 'Laomedeia'],\n",
       " [30.0, 'Neptune', 'Neso'],\n",
       " [17.4, 'Neptune', 'Hippocamp'],\n",
       " [606.0, 'Pluto', 'Charon'],\n",
       " [23.0, 'Pluto', 'Nix'],\n",
       " [30.5, 'Pluto', 'Hydra'],\n",
       " [14.0, 'Pluto', 'Kerberos'],\n",
       " [10.0, 'Pluto', 'Styx'],\n",
       " ['']]"
      ]
     },
     "execution_count": 157,
     "metadata": {},
     "output_type": "execute_result"
    }
   ],
   "source": [
    "data_moons[:]"
   ]
  },
  {
   "cell_type": "markdown",
   "metadata": {},
   "source": [
    "As you can see, this is not perfect; the diameter of the moons has been appended as a `string`, instead of a `float`. <br>\n",
    "Fixing this is up to you! (*hint*: you can convert a string to a float using `float(<string>)`)\n",
    "\n",
    "You will have to use a loop to access each row (nested loops here), and use indexing to access the elements you want."
   ]
  },
  {
   "cell_type": "markdown",
   "metadata": {},
   "source": [
    "### Your assignment...\n",
    "...should you choose to accept it, will be the following:\n",
    "1. Find the number of moons of each planet\n",
    "2. Order the moons (along with their planets) according to their sizes"
   ]
  },
  {
   "cell_type": "markdown",
   "metadata": {},
   "source": [
    "Try to verify these from the Wikipedia link that we took the data from. "
   ]
  },
  {
   "cell_type": "code",
   "execution_count": 158,
   "metadata": {},
   "outputs": [],
   "source": [
    "for substring in data_moons[1:-1]:\n",
    "    substring.reverse()\n",
    "    data_moons[data_moons.index(substring)][2]=float(substring[2])\n",
    "    substring.reverse()"
   ]
  },
  {
   "cell_type": "code",
   "execution_count": 160,
   "metadata": {},
   "outputs": [],
   "source": [
    "data_moons[0].reverse()"
   ]
  },
  {
   "cell_type": "code",
   "execution_count": 189,
   "metadata": {},
   "outputs": [
    {
     "data": {
      "text/plain": [
       "[[' Diameter (km)', ' Name of Planet', '# Name of Moon'],\n",
       " [0.15, 'Saturn', 'S/2009 S 1'],\n",
       " [0.33, 'Saturn', 'Aegaeon'],\n",
       " [0.5, 'Jupiter', 'S/2003 J 12'],\n",
       " [0.5, 'Jupiter', 'S/2003 J 9'],\n",
       " [0.5, 'Jupiter', 'S/2010 J 2'],\n",
       " [0.5, 'Jupiter', 'S/2011 J 1'],\n",
       " [0.5, 'Jupiter', 'S/2011 J 2'],\n",
       " [0.5, 'Jupiter', 'S/2017 J 8'],\n",
       " [0.5, 'Jupiter', 'Valetudo'],\n",
       " [1.0, 'Jupiter', 'Cyllene'],\n",
       " [1.0, 'Jupiter', 'Ersa'],\n",
       " [1.0, 'Jupiter', 'Eupheme'],\n",
       " [1.0, 'Jupiter', 'Euporie'],\n",
       " [1.0, 'Jupiter', 'Herse'],\n",
       " [1.0, 'Jupiter', 'Kale'],\n",
       " [1.0, 'Jupiter', 'Kallichore'],\n",
       " [1.0, 'Jupiter', 'Kore'],\n",
       " [1.0, 'Jupiter', 'Mneme'],\n",
       " [1.0, 'Jupiter', 'Orthosie'],\n",
       " [1.0, 'Jupiter', 'Pandia'],\n",
       " [1.0, 'Jupiter', 'Pasithee'],\n",
       " [1.0, 'Jupiter', 'Philophrosyne'],\n",
       " [1.0, 'Jupiter', 'S/2003 J 10'],\n",
       " [1.0, 'Jupiter', 'S/2003 J 16'],\n",
       " [1.0, 'Jupiter', 'S/2003 J 18'],\n",
       " [1.0, 'Jupiter', 'S/2003 J 19'],\n",
       " [1.0, 'Jupiter', 'S/2003 J 2'],\n",
       " [1.0, 'Jupiter', 'S/2003 J 23'],\n",
       " [1.0, 'Jupiter', 'S/2003 J 4'],\n",
       " [1.0, 'Jupiter', 'S/2010 J 1'],\n",
       " [1.0, 'Jupiter', 'S/2017 J 2'],\n",
       " [1.0, 'Jupiter', 'S/2017 J 3'],\n",
       " [1.0, 'Jupiter', 'S/2017 J 5'],\n",
       " [1.0, 'Jupiter', 'S/2017 J 6'],\n",
       " [1.0, 'Jupiter', 'S/2017 J 7'],\n",
       " [1.0, 'Jupiter', 'S/2017 J 9'],\n",
       " [1.0, 'Jupiter', 'Sponde'],\n",
       " [1.0, 'Jupiter', 'Thelxinoe'],\n",
       " [1.0, 'Saturn', 'Anthe'],\n",
       " [1.25, 'Saturn', 'Polydeuces'],\n",
       " [1.5, 'Jupiter', 'Aitne'],\n",
       " [1.5, 'Jupiter', 'Arche'],\n",
       " [1.5, 'Jupiter', 'Carpo'],\n",
       " [1.5, 'Jupiter', 'Euanthe'],\n",
       " [1.5, 'Jupiter', 'Eurydome'],\n",
       " [1.5, 'Jupiter', 'Hegemone'],\n",
       " [1.6, 'Jupiter', 'Erinome'],\n",
       " [1.6, 'Saturn', 'Methone'],\n",
       " [1.9, 'Jupiter', 'Chaldene'],\n",
       " [1.9, 'Jupiter', 'Isonoe'],\n",
       " [2.0, 'Jupiter', 'Aoede'],\n",
       " [2.0, 'Jupiter', 'Autonoe'],\n",
       " [2.0, 'Jupiter', 'Dia'],\n",
       " [2.0, 'Jupiter', 'Eirene'],\n",
       " [2.0, 'Jupiter', 'Eukelade'],\n",
       " [2.0, 'Jupiter', 'Helike'],\n",
       " [2.0, 'Jupiter', 'Hermippe'],\n",
       " [2.0, 'Jupiter', 'S/2017 J 1'],\n",
       " [2.0, 'Jupiter', 'Thyone'],\n",
       " [2.0, 'Saturn', 'Fenrir'],\n",
       " [2.0, 'Saturn', 'Pallene'],\n",
       " [2.0, 'Saturn', 'S/2004 S 17'],\n",
       " [2.2, 'Jupiter', 'Harpalyke'],\n",
       " [2.5, 'Jupiter', 'Taygete'],\n",
       " [2.5, 'Saturn', 'Farbauti'],\n",
       " [2.5, 'Saturn', 'S/2004 S 12'],\n",
       " [2.6, 'Jupiter', 'Iocaste'],\n",
       " [2.6, 'Jupiter', 'Kalyke'],\n",
       " [2.7, 'Jupiter', 'Megaclite'],\n",
       " [3.0, 'Jupiter', 'S/2016 J 1'],\n",
       " [3.0, 'Saturn', 'Aegir'],\n",
       " [3.0, 'Saturn', 'Bebhionn'],\n",
       " [3.0, 'Saturn', 'Bergelmir'],\n",
       " [3.0, 'Saturn', 'Fornjot'],\n",
       " [3.0, 'Saturn', 'Greip'],\n",
       " [3.0, 'Saturn', 'Hati'],\n",
       " [3.0, 'Saturn', 'Jarnsaxa'],\n",
       " [3.0, 'Saturn', 'Loge'],\n",
       " [3.0, 'Saturn', 'S/2004 S 13'],\n",
       " [3.0, 'Saturn', 'S/2004 S 20'],\n",
       " [3.0, 'Saturn', 'S/2004 S 21'],\n",
       " [3.0, 'Saturn', 'S/2004 S 22'],\n",
       " [3.0, 'Saturn', 'S/2004 S 24'],\n",
       " [3.0, 'Saturn', 'S/2004 S 30'],\n",
       " [3.0, 'Saturn', 'S/2004 S 34'],\n",
       " [3.0, 'Saturn', 'S/2004 S 36'],\n",
       " [3.0, 'Saturn', 'S/2004 S 39'],\n",
       " [3.0, 'Saturn', 'S/2004 S 7'],\n",
       " [3.0, 'Saturn', 'S/2006 S 1'],\n",
       " [3.0, 'Saturn', 'S/2006 S 3'],\n",
       " [3.0, 'Saturn', 'S/2007 S 2'],\n",
       " [3.0, 'Saturn', 'S/2007 S 3'],\n",
       " [3.0, 'Saturn', 'Skoll'],\n",
       " [3.0, 'Saturn', 'Surtur'],\n",
       " [3.4, 'Jupiter', 'Praxidike'],\n",
       " [3.5, 'Saturn', 'Bestla'],\n",
       " [3.5, 'Saturn', 'Kari'],\n",
       " [3.5, 'Saturn', 'Mundilfari'],\n",
       " [3.5, 'Saturn', 'Narvi'],\n",
       " [3.5, 'Saturn', 'Suttungr'],\n",
       " [3.5, 'Saturn', 'Tarqeq'],\n",
       " [3.5, 'Saturn', 'Thrymr'],\n",
       " [3.8, 'Saturn', 'Daphnis'],\n",
       " [4.0, 'Jupiter', 'Themisto'],\n",
       " [4.0, 'Saturn', 'Hyrrokkin'],\n",
       " [4.0, 'Saturn', 'S/2004 S 23'],\n",
       " [4.0, 'Saturn', 'S/2004 S 25'],\n",
       " [4.0, 'Saturn', 'S/2004 S 26'],\n",
       " [4.0, 'Saturn', 'S/2004 S 28'],\n",
       " [4.0, 'Saturn', 'S/2004 S 29'],\n",
       " [4.0, 'Saturn', 'S/2004 S 31'],\n",
       " [4.0, 'Saturn', 'S/2004 S 32'],\n",
       " [4.0, 'Saturn', 'S/2004 S 33'],\n",
       " [4.0, 'Saturn', 'S/2004 S 37'],\n",
       " [4.0, 'Saturn', 'S/2004 S 38'],\n",
       " [4.0, 'Saturn', 'Skathi'],\n",
       " [4.3, 'Jupiter', 'Callirrhoe'],\n",
       " [5.0, 'Saturn', 'Erriapus'],\n",
       " [5.5, 'Uranus', 'Margaret'],\n",
       " [6.0, 'Saturn', 'Ijiraq'],\n",
       " [6.0, 'Saturn', 'S/2004 S 27'],\n",
       " [6.0, 'Saturn', 'S/2004 S 35'],\n",
       " [6.0, 'Uranus', 'Ferdinand'],\n",
       " [6.0, 'Uranus', 'Francisco'],\n",
       " [6.0, 'Uranus', 'Mab'],\n",
       " [6.2, 'Mars', 'Deimos'],\n",
       " [7.5, 'Saturn', 'Tarvos'],\n",
       " [8.0, 'Saturn', 'Kiviuq'],\n",
       " [8.2, 'Jupiter', 'Adrastea'],\n",
       " [9.0, 'Saturn', 'Ymir'],\n",
       " [9.0, 'Uranus', 'Cupid'],\n",
       " [9.0, 'Uranus', 'Trinculo'],\n",
       " [9.5, 'Saturn', 'Calypso'],\n",
       " [10.0, 'Jupiter', 'Leda'],\n",
       " [10.0, 'Pluto', 'Styx'],\n",
       " [10.0, 'Uranus', 'Stephano'],\n",
       " [11.0, 'Saturn', 'Paaliaq'],\n",
       " [11.1, 'Mars', 'Phobos'],\n",
       " [12.0, 'Saturn', 'Telesto'],\n",
       " [12.8, 'Saturn', 'Pan'],\n",
       " [14.0, 'Jupiter', 'Ananke'],\n",
       " [14.0, 'Pluto', 'Kerberos'],\n",
       " [15.0, 'Uranus', 'Perdita'],\n",
       " [15.3, 'Saturn', 'Atlas'],\n",
       " [16.0, 'Saturn', 'Albiorix'],\n",
       " [16.0, 'Saturn', 'Helene'],\n",
       " [17.4, 'Neptune', 'Hippocamp'],\n",
       " [18.0, 'Jupiter', 'Lysithea'],\n",
       " [19.0, 'Jupiter', 'Sinope'],\n",
       " [20.0, 'Neptune', 'Psamathe'],\n",
       " [20.0, 'Saturn', 'Siarnaq'],\n",
       " [20.1, 'Uranus', 'Cordelia'],\n",
       " [21.0, 'Neptune', 'Laomedeia'],\n",
       " [21.0, 'Uranus', 'Caliban'],\n",
       " [21.4, 'Uranus', 'Ophelia'],\n",
       " [21.5, 'Jupiter', 'Metis'],\n",
       " [22.0, 'Neptune', 'Sao'],\n",
       " [23.0, 'Jupiter', 'Carme'],\n",
       " [23.0, 'Pluto', 'Nix'],\n",
       " [24.0, 'Uranus', 'Setebos'],\n",
       " [25.0, 'Uranus', 'Prospero'],\n",
       " [25.7, 'Uranus', 'Bianca'],\n",
       " [30.0, 'Jupiter', 'Pasiphae'],\n",
       " [30.0, 'Neptune', 'Neso'],\n",
       " [30.5, 'Pluto', 'Hydra'],\n",
       " [31.0, 'Neptune', 'Halimede'],\n",
       " [32.0, 'Uranus', 'Desdemona'],\n",
       " [33.0, 'Neptune', 'Naiad'],\n",
       " [36.0, 'Uranus', 'Rosalind'],\n",
       " [39.8, 'Uranus', 'Cressida'],\n",
       " [40.3, 'Uranus', 'Belinda'],\n",
       " [40.6, 'Saturn', 'Pandora'],\n",
       " [41.0, 'Neptune', 'Thalassa'],\n",
       " [43.0, 'Jupiter', 'Elara'],\n",
       " [46.8, 'Saturn', 'Prometheus'],\n",
       " [46.8, 'Uranus', 'Juliet'],\n",
       " [49.3, 'Jupiter', 'Thebe'],\n",
       " [58.3, 'Saturn', 'Epimetheus'],\n",
       " [67.0, 'Jupiter', 'Himalia'],\n",
       " [67.6, 'Uranus', 'Portia'],\n",
       " [75.0, 'Neptune', 'Despina'],\n",
       " [78.5, 'Uranus', 'Sycorax'],\n",
       " [81.0, 'Uranus', 'Puck'],\n",
       " [83.5, 'Jupiter', 'Amalthea'],\n",
       " [88.0, 'Neptune', 'Galatea'],\n",
       " [90.4, 'Saturn', 'Janus'],\n",
       " [97.0, 'Neptune', 'Larissa'],\n",
       " [106.6, 'Saturn', 'Phoebe'],\n",
       " [138.6, 'Saturn', 'Hyperion'],\n",
       " [178.5, 'Neptune', 'Nereid'],\n",
       " [198.2, 'Saturn', 'Mimas'],\n",
       " [210.0, 'Neptune', 'Proteus'],\n",
       " [235.8, 'Uranus', 'Miranda'],\n",
       " [252.3, 'Saturn', 'Enceladus'],\n",
       " [536.3, 'Saturn', 'Tethys'],\n",
       " [562.5, 'Saturn', 'Dione'],\n",
       " [578.9, 'Uranus', 'Ariel'],\n",
       " [584.7, 'Uranus', 'Umbriel'],\n",
       " [606.0, 'Pluto', 'Charon'],\n",
       " [734.5, 'Saturn', 'Iapetus'],\n",
       " [761.4, 'Uranus', 'Oberon'],\n",
       " [764.5, 'Saturn', 'Rhea'],\n",
       " [788.9, 'Uranus', 'Titania'],\n",
       " [1353.4, 'Neptune', 'Triton'],\n",
       " [1560.7, 'Jupiter', 'Europa'],\n",
       " [1737.1, 'Earth', 'Moon'],\n",
       " [1818.1, 'Jupiter', 'Io'],\n",
       " [2408.4, 'Jupiter', 'Callisto'],\n",
       " [2575.5, 'Saturn', 'Titan'],\n",
       " [2634.1, 'Jupiter', 'Ganymede'],\n",
       " ['']]"
      ]
     },
     "execution_count": 189,
     "metadata": {},
     "output_type": "execute_result"
    }
   ],
   "source": [
    "temp = data_moons[1:-1]\n",
    "temp.sort()\n",
    "data_moons[1:-1] = temp\n",
    "data_moons[:]"
   ]
  }
 ],
 "metadata": {
  "kernelspec": {
   "display_name": "Python 3",
   "language": "python",
   "name": "python3"
  },
  "language_info": {
   "codemirror_mode": {
    "name": "ipython",
    "version": 3
   },
   "file_extension": ".py",
   "mimetype": "text/x-python",
   "name": "python",
   "nbconvert_exporter": "python",
   "pygments_lexer": "ipython3",
   "version": "3.7.6"
  }
 },
 "nbformat": 4,
 "nbformat_minor": 2
}
